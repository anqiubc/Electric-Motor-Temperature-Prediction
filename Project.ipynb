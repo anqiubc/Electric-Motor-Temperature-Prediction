{
 "cells": [
  {
   "cell_type": "markdown",
   "id": "ea436efc-2b08-4bd7-b713-a806070dd618",
   "metadata": {},
   "source": [
    "# Electric Motor Rotor Temperature Prediction \n",
    "### with Multiple Linear Regression and Principal Component Regression\n",
    "#### June 2020, slightly modified"
   ]
  },
  {
   "cell_type": "markdown",
   "id": "2b7f9263-3a18-44bd-ae22-c0158b073752",
   "metadata": {},
   "source": [
    "## Step 1: Describe the dataset"
   ]
  },
  {
   "cell_type": "markdown",
   "id": "ef493216-7308-426c-87d5-3b99c478c11b",
   "metadata": {},
   "source": [
    "https://www.kaggle.com/wkirgsn/electric-motor-temperature "
   ]
  },
  {
   "cell_type": "markdown",
   "id": "77814a4e-58b9-43c1-9c54-4503aabcdf63",
   "metadata": {},
   "source": [
    "The data set comprises several sensor data collected from a permanent magnet synchronous motor (PMSM) deployed on a test bench. The PMSM represents a german OEM's prototype model. Test bench measurements were collected by the LEA department at Paderborn University."
   ]
  },
  {
   "cell_type": "markdown",
   "id": "1351e617-e63b-417f-9337-22014529453d",
   "metadata": {},
   "source": [
    "#### Variables:\n",
    "- u_q: q component of Voltage measured in Volts\n",
    "- u_d: d component of Voltage measured in Volts\n",
    "- i_q: q component of Current measured in Amps\n",
    "- i_d: d component of Current measured in Amps\n",
    "- ambient: ambient temperature around the stator in °C (measured by a thermal sensor fixed close to stator)\n",
    "- coolant: motor coolant (water in this case) temperature of the motor in °C (measured by a fixed thermal sensor at coolant outlet)\n",
    "- motor speed: ambient temperature around the stator in °C (measured by a fixed thermal sensor)\n",
    "- stator_tooth: stator tooth temperature in °C\n",
    "- stator_winding: stator winding temperature in °C\n",
    "- stator_yoke: stator yoke temperature in °C\n",
    "- pm: permanent magnet tooth temperature in °C\n",
    "- profile_id: id of the measurement session"
   ]
  },
  {
   "cell_type": "markdown",
   "id": "88d48af0-f9d3-4dfa-a7df-482fcb108772",
   "metadata": {},
   "source": [
    "#### Target: \n",
    "- The most interesting target features are **rotor temperature (\"pm\"), stator temperatures (\"stator_*\") and torque**.\n",
    "Especially rotor temperature and torque are not reliably and economically measurable in a commercial vehicle. Being able to have strong estimators for the rotor temperature helps the automotive industry to manufacture motors with less material and enables control strategies to utilize the motor to its maximum capability.\n",
    "- Therefore, the target for today is to predict the **rotor temperature**(\"pm\") of a given motor."
   ]
  },
  {
   "cell_type": "markdown",
   "id": "61d80583-50ea-426b-a572-b2143c775cf9",
   "metadata": {},
   "source": [
    "## Step 2: Load the dataset"
   ]
  },
  {
   "cell_type": "code",
   "execution_count": 1,
   "id": "e3f37f3e-bce8-4076-bfd5-537da0932ad7",
   "metadata": {},
   "outputs": [
    {
     "data": {
      "text/html": [
       "<table class=\"dataframe\">\n",
       "<caption>A data.frame: 3 × 13</caption>\n",
       "<thead>\n",
       "\t<tr><th></th><th scope=col>u_q</th><th scope=col>coolant</th><th scope=col>stator_winding</th><th scope=col>u_d</th><th scope=col>stator_tooth</th><th scope=col>motor_speed</th><th scope=col>i_d</th><th scope=col>i_q</th><th scope=col>pm</th><th scope=col>stator_yoke</th><th scope=col>ambient</th><th scope=col>torque</th><th scope=col>profile_id</th></tr>\n",
       "\t<tr><th></th><th scope=col>&lt;dbl&gt;</th><th scope=col>&lt;dbl&gt;</th><th scope=col>&lt;dbl&gt;</th><th scope=col>&lt;dbl&gt;</th><th scope=col>&lt;dbl&gt;</th><th scope=col>&lt;dbl&gt;</th><th scope=col>&lt;dbl&gt;</th><th scope=col>&lt;dbl&gt;</th><th scope=col>&lt;dbl&gt;</th><th scope=col>&lt;dbl&gt;</th><th scope=col>&lt;dbl&gt;</th><th scope=col>&lt;dbl&gt;</th><th scope=col>&lt;int&gt;</th></tr>\n",
       "</thead>\n",
       "<tbody>\n",
       "\t<tr><th scope=row>1</th><td>-0.4506815</td><td>18.80517</td><td>19.08667</td><td>-0.3500546</td><td>18.29322</td><td>0.0028655678</td><td>0.0044191368</td><td> 0.0003281022</td><td>24.55421</td><td>18.31655</td><td>19.85069</td><td>0.1871008</td><td>17</td></tr>\n",
       "\t<tr><th scope=row>2</th><td>-0.3257370</td><td>18.81857</td><td>19.09239</td><td>-0.3058030</td><td>18.29481</td><td>0.0002567817</td><td>0.0006058724</td><td>-0.0007853527</td><td>24.53808</td><td>18.31495</td><td>19.85067</td><td>0.2454175</td><td>17</td></tr>\n",
       "\t<tr><th scope=row>3</th><td>-0.4408640</td><td>18.82877</td><td>19.08938</td><td>-0.3725026</td><td>18.29409</td><td>0.0023549714</td><td>0.0012895871</td><td> 0.0003864682</td><td>24.54469</td><td>18.32631</td><td>19.85066</td><td>0.1766153</td><td>17</td></tr>\n",
       "</tbody>\n",
       "</table>\n"
      ],
      "text/latex": [
       "A data.frame: 3 × 13\n",
       "\\begin{tabular}{r|lllllllllllll}\n",
       "  & u\\_q & coolant & stator\\_winding & u\\_d & stator\\_tooth & motor\\_speed & i\\_d & i\\_q & pm & stator\\_yoke & ambient & torque & profile\\_id\\\\\n",
       "  & <dbl> & <dbl> & <dbl> & <dbl> & <dbl> & <dbl> & <dbl> & <dbl> & <dbl> & <dbl> & <dbl> & <dbl> & <int>\\\\\n",
       "\\hline\n",
       "\t1 & -0.4506815 & 18.80517 & 19.08667 & -0.3500546 & 18.29322 & 0.0028655678 & 0.0044191368 &  0.0003281022 & 24.55421 & 18.31655 & 19.85069 & 0.1871008 & 17\\\\\n",
       "\t2 & -0.3257370 & 18.81857 & 19.09239 & -0.3058030 & 18.29481 & 0.0002567817 & 0.0006058724 & -0.0007853527 & 24.53808 & 18.31495 & 19.85067 & 0.2454175 & 17\\\\\n",
       "\t3 & -0.4408640 & 18.82877 & 19.08938 & -0.3725026 & 18.29409 & 0.0023549714 & 0.0012895871 &  0.0003864682 & 24.54469 & 18.32631 & 19.85066 & 0.1766153 & 17\\\\\n",
       "\\end{tabular}\n"
      ],
      "text/markdown": [
       "\n",
       "A data.frame: 3 × 13\n",
       "\n",
       "| <!--/--> | u_q &lt;dbl&gt; | coolant &lt;dbl&gt; | stator_winding &lt;dbl&gt; | u_d &lt;dbl&gt; | stator_tooth &lt;dbl&gt; | motor_speed &lt;dbl&gt; | i_d &lt;dbl&gt; | i_q &lt;dbl&gt; | pm &lt;dbl&gt; | stator_yoke &lt;dbl&gt; | ambient &lt;dbl&gt; | torque &lt;dbl&gt; | profile_id &lt;int&gt; |\n",
       "|---|---|---|---|---|---|---|---|---|---|---|---|---|---|\n",
       "| 1 | -0.4506815 | 18.80517 | 19.08667 | -0.3500546 | 18.29322 | 0.0028655678 | 0.0044191368 |  0.0003281022 | 24.55421 | 18.31655 | 19.85069 | 0.1871008 | 17 |\n",
       "| 2 | -0.3257370 | 18.81857 | 19.09239 | -0.3058030 | 18.29481 | 0.0002567817 | 0.0006058724 | -0.0007853527 | 24.53808 | 18.31495 | 19.85067 | 0.2454175 | 17 |\n",
       "| 3 | -0.4408640 | 18.82877 | 19.08938 | -0.3725026 | 18.29409 | 0.0023549714 | 0.0012895871 |  0.0003864682 | 24.54469 | 18.32631 | 19.85066 | 0.1766153 | 17 |\n",
       "\n"
      ],
      "text/plain": [
       "  u_q        coolant  stator_winding u_d        stator_tooth motor_speed \n",
       "1 -0.4506815 18.80517 19.08667       -0.3500546 18.29322     0.0028655678\n",
       "2 -0.3257370 18.81857 19.09239       -0.3058030 18.29481     0.0002567817\n",
       "3 -0.4408640 18.82877 19.08938       -0.3725026 18.29409     0.0023549714\n",
       "  i_d          i_q           pm       stator_yoke ambient  torque    profile_id\n",
       "1 0.0044191368  0.0003281022 24.55421 18.31655    19.85069 0.1871008 17        \n",
       "2 0.0006058724 -0.0007853527 24.53808 18.31495    19.85067 0.2454175 17        \n",
       "3 0.0012895871  0.0003864682 24.54469 18.32631    19.85066 0.1766153 17        "
      ]
     },
     "metadata": {},
     "output_type": "display_data"
    }
   ],
   "source": [
    "df<-read.csv(\"measures_v2.csv\",header=T)\n",
    "head(df,3)"
   ]
  },
  {
   "cell_type": "code",
   "execution_count": 2,
   "id": "a8a0ddcf-e255-403f-b037-4f411d97adc3",
   "metadata": {},
   "outputs": [
    {
     "name": "stdout",
     "output_type": "stream",
     "text": [
      "'data.frame':\t1330816 obs. of  13 variables:\n",
      " $ u_q           : num  -0.451 -0.326 -0.441 -0.327 -0.471 ...\n",
      " $ coolant       : num  18.8 18.8 18.8 18.8 18.9 ...\n",
      " $ stator_winding: num  19.1 19.1 19.1 19.1 19.1 ...\n",
      " $ u_d           : num  -0.35 -0.306 -0.373 -0.316 -0.332 ...\n",
      " $ stator_tooth  : num  18.3 18.3 18.3 18.3 18.3 ...\n",
      " $ motor_speed   : num  0.002866 0.000257 0.002355 0.006105 0.003133 ...\n",
      " $ i_d           : num  4.42e-03 6.06e-04 1.29e-03 2.56e-05 -6.43e-02 ...\n",
      " $ i_q           : num  0.000328 -0.000785 0.000386 0.002046 0.037184 ...\n",
      " $ pm            : num  24.6 24.5 24.5 24.6 24.6 ...\n",
      " $ stator_yoke   : num  18.3 18.3 18.3 18.3 18.3 ...\n",
      " $ ambient       : num  19.9 19.9 19.9 19.9 19.9 ...\n",
      " $ torque        : num  0.187 0.245 0.177 0.238 0.208 ...\n",
      " $ profile_id    : int  17 17 17 17 17 17 17 17 17 17 ...\n"
     ]
    }
   ],
   "source": [
    "str(df)"
   ]
  },
  {
   "cell_type": "markdown",
   "id": "29d41c6f-a61a-455b-918b-d020464a9d90",
   "metadata": {},
   "source": [
    "## Step 3: Exploration and initial thoughts"
   ]
  },
  {
   "cell_type": "code",
   "execution_count": 3,
   "id": "472092f4-2f69-420c-829b-37b081b227d6",
   "metadata": {},
   "outputs": [
    {
     "data": {
      "text/html": [
       "0"
      ],
      "text/latex": [
       "0"
      ],
      "text/markdown": [
       "0"
      ],
      "text/plain": [
       "[1] 0"
      ]
     },
     "metadata": {},
     "output_type": "display_data"
    }
   ],
   "source": [
    "#for missing values\n",
    "sum(is.na(df))"
   ]
  },
  {
   "cell_type": "code",
   "execution_count": 4,
   "id": "2112c05c-e0dc-4c66-9c58-4515cf3d4394",
   "metadata": {},
   "outputs": [
    {
     "data": {
      "text/html": [
       "<table class=\"dataframe\">\n",
       "<caption>A data.frame: 2 × 12</caption>\n",
       "<thead>\n",
       "\t<tr><th></th><th scope=col>u_q</th><th scope=col>coolant</th><th scope=col>stator_winding</th><th scope=col>u_d</th><th scope=col>stator_tooth</th><th scope=col>motor_speed</th><th scope=col>i_d</th><th scope=col>i_q</th><th scope=col>pm</th><th scope=col>stator_yoke</th><th scope=col>ambient</th><th scope=col>torque</th></tr>\n",
       "\t<tr><th></th><th scope=col>&lt;dbl&gt;</th><th scope=col>&lt;dbl&gt;</th><th scope=col>&lt;dbl&gt;</th><th scope=col>&lt;dbl&gt;</th><th scope=col>&lt;dbl&gt;</th><th scope=col>&lt;dbl&gt;</th><th scope=col>&lt;dbl&gt;</th><th scope=col>&lt;dbl&gt;</th><th scope=col>&lt;dbl&gt;</th><th scope=col>&lt;dbl&gt;</th><th scope=col>&lt;dbl&gt;</th><th scope=col>&lt;dbl&gt;</th></tr>\n",
       "</thead>\n",
       "<tbody>\n",
       "\t<tr><th scope=row>1</th><td>-0.4506815</td><td>18.80517</td><td>19.08667</td><td>-0.3500546</td><td>18.29322</td><td>0.0028655678</td><td>0.0044191368</td><td> 0.0003281022</td><td>24.55421</td><td>18.31655</td><td>19.85069</td><td>0.1871008</td></tr>\n",
       "\t<tr><th scope=row>2</th><td>-0.3257370</td><td>18.81857</td><td>19.09239</td><td>-0.3058030</td><td>18.29481</td><td>0.0002567817</td><td>0.0006058724</td><td>-0.0007853527</td><td>24.53808</td><td>18.31495</td><td>19.85067</td><td>0.2454175</td></tr>\n",
       "</tbody>\n",
       "</table>\n"
      ],
      "text/latex": [
       "A data.frame: 2 × 12\n",
       "\\begin{tabular}{r|llllllllllll}\n",
       "  & u\\_q & coolant & stator\\_winding & u\\_d & stator\\_tooth & motor\\_speed & i\\_d & i\\_q & pm & stator\\_yoke & ambient & torque\\\\\n",
       "  & <dbl> & <dbl> & <dbl> & <dbl> & <dbl> & <dbl> & <dbl> & <dbl> & <dbl> & <dbl> & <dbl> & <dbl>\\\\\n",
       "\\hline\n",
       "\t1 & -0.4506815 & 18.80517 & 19.08667 & -0.3500546 & 18.29322 & 0.0028655678 & 0.0044191368 &  0.0003281022 & 24.55421 & 18.31655 & 19.85069 & 0.1871008\\\\\n",
       "\t2 & -0.3257370 & 18.81857 & 19.09239 & -0.3058030 & 18.29481 & 0.0002567817 & 0.0006058724 & -0.0007853527 & 24.53808 & 18.31495 & 19.85067 & 0.2454175\\\\\n",
       "\\end{tabular}\n"
      ],
      "text/markdown": [
       "\n",
       "A data.frame: 2 × 12\n",
       "\n",
       "| <!--/--> | u_q &lt;dbl&gt; | coolant &lt;dbl&gt; | stator_winding &lt;dbl&gt; | u_d &lt;dbl&gt; | stator_tooth &lt;dbl&gt; | motor_speed &lt;dbl&gt; | i_d &lt;dbl&gt; | i_q &lt;dbl&gt; | pm &lt;dbl&gt; | stator_yoke &lt;dbl&gt; | ambient &lt;dbl&gt; | torque &lt;dbl&gt; |\n",
       "|---|---|---|---|---|---|---|---|---|---|---|---|---|\n",
       "| 1 | -0.4506815 | 18.80517 | 19.08667 | -0.3500546 | 18.29322 | 0.0028655678 | 0.0044191368 |  0.0003281022 | 24.55421 | 18.31655 | 19.85069 | 0.1871008 |\n",
       "| 2 | -0.3257370 | 18.81857 | 19.09239 | -0.3058030 | 18.29481 | 0.0002567817 | 0.0006058724 | -0.0007853527 | 24.53808 | 18.31495 | 19.85067 | 0.2454175 |\n",
       "\n"
      ],
      "text/plain": [
       "  u_q        coolant  stator_winding u_d        stator_tooth motor_speed \n",
       "1 -0.4506815 18.80517 19.08667       -0.3500546 18.29322     0.0028655678\n",
       "2 -0.3257370 18.81857 19.09239       -0.3058030 18.29481     0.0002567817\n",
       "  i_d          i_q           pm       stator_yoke ambient  torque   \n",
       "1 0.0044191368  0.0003281022 24.55421 18.31655    19.85069 0.1871008\n",
       "2 0.0006058724 -0.0007853527 24.53808 18.31495    19.85067 0.2454175"
      ]
     },
     "metadata": {},
     "output_type": "display_data"
    }
   ],
   "source": [
    "#drop the column profile_id\n",
    "df <- subset(df, select = -c(profile_id))\n",
    "head(df,2)"
   ]
  },
  {
   "cell_type": "code",
   "execution_count": 5,
   "id": "db2a0275-01d9-4657-a3b5-6e14fbeef727",
   "metadata": {},
   "outputs": [
    {
     "data": {
      "text/html": [
       "<table class=\"dataframe\">\n",
       "<caption>A matrix: 12 × 12 of type dbl</caption>\n",
       "<thead>\n",
       "\t<tr><th></th><th scope=col>u_q</th><th scope=col>coolant</th><th scope=col>stator_winding</th><th scope=col>u_d</th><th scope=col>stator_tooth</th><th scope=col>motor_speed</th><th scope=col>i_d</th><th scope=col>i_q</th><th scope=col>pm</th><th scope=col>stator_yoke</th><th scope=col>ambient</th><th scope=col>torque</th></tr>\n",
       "</thead>\n",
       "<tbody>\n",
       "\t<tr><th scope=row>u_q</th><td> 1.000000000</td><td> 0.05172100</td><td> 0.05060983</td><td> 0.004701759</td><td> 0.10437324</td><td> 0.68355601</td><td>-0.10035698</td><td>-0.12458913</td><td> 0.1223646</td><td> 0.090992024</td><td> 0.15026430</td><td>-0.13621491</td></tr>\n",
       "\t<tr><th scope=row>coolant</th><td> 0.051720996</td><td> 1.00000000</td><td> 0.50483519</td><td> 0.195517009</td><td> 0.67497359</td><td> 0.01187233</td><td> 0.07486480</td><td>-0.25638897</td><td> 0.4671173</td><td> 0.860750285</td><td> 0.52596328</td><td>-0.25798240</td></tr>\n",
       "\t<tr><th scope=row>stator_winding</th><td> 0.050609826</td><td> 0.50483519</td><td> 1.00000000</td><td>-0.234950204</td><td> 0.97013472</td><td> 0.43203390</td><td>-0.62436963</td><td> 0.06561716</td><td> 0.7958925</td><td> 0.860268356</td><td> 0.33320831</td><td> 0.09550988</td></tr>\n",
       "\t<tr><th scope=row>u_d</th><td> 0.004701759</td><td> 0.19551701</td><td>-0.23495020</td><td> 1.000000000</td><td>-0.14274949</td><td>-0.28847200</td><td> 0.44833078</td><td>-0.72306893</td><td>-0.1720306</td><td>-0.008097952</td><td> 0.20364733</td><td>-0.75377901</td></tr>\n",
       "\t<tr><th scope=row>stator_tooth</th><td> 0.104373235</td><td> 0.67497359</td><td> 0.97013472</td><td>-0.142749488</td><td> 1.00000000</td><td> 0.39843075</td><td>-0.48706209</td><td>-0.04229356</td><td> 0.8320839</td><td> 0.953114534</td><td> 0.44346971</td><td>-0.01841303</td></tr>\n",
       "\t<tr><th scope=row>motor_speed</th><td> 0.683556010</td><td> 0.01187233</td><td> 0.43203390</td><td>-0.288471996</td><td> 0.39843075</td><td> 1.00000000</td><td>-0.70060850</td><td>-0.06888053</td><td> 0.4589471</td><td> 0.255789872</td><td> 0.11823214</td><td>-0.04390256</td></tr>\n",
       "\t<tr><th scope=row>i_d</th><td>-0.100356980</td><td> 0.07486480</td><td>-0.62436963</td><td> 0.448330776</td><td>-0.48706209</td><td>-0.70060850</td><td> 1.00000000</td><td>-0.23134438</td><td>-0.4277362</td><td>-0.278004762</td><td> 0.01639681</td><td>-0.27409728</td></tr>\n",
       "\t<tr><th scope=row>i_q</th><td>-0.124589132</td><td>-0.25638897</td><td> 0.06561716</td><td>-0.723068930</td><td>-0.04229356</td><td>-0.06888053</td><td>-0.23134438</td><td> 1.00000000</td><td>-0.1424162</td><td>-0.131465941</td><td>-0.31404378</td><td> 0.99645726</td></tr>\n",
       "\t<tr><th scope=row>pm</th><td> 0.122364640</td><td> 0.46711732</td><td> 0.79589251</td><td>-0.172030583</td><td> 0.83208390</td><td> 0.45894708</td><td>-0.42773622</td><td>-0.14241620</td><td> 1.0000000</td><td> 0.756684277</td><td> 0.51372786</td><td>-0.11713814</td></tr>\n",
       "\t<tr><th scope=row>stator_yoke</th><td> 0.090992024</td><td> 0.86075028</td><td> 0.86026836</td><td>-0.008097952</td><td> 0.95311453</td><td> 0.25578987</td><td>-0.27800476</td><td>-0.13146594</td><td> 0.7566843</td><td> 1.000000000</td><td> 0.52038159</td><td>-0.11711839</td></tr>\n",
       "\t<tr><th scope=row>ambient</th><td> 0.150264303</td><td> 0.52596328</td><td> 0.33320831</td><td> 0.203647334</td><td> 0.44346971</td><td> 0.11823214</td><td> 0.01639681</td><td>-0.31404378</td><td> 0.5137279</td><td> 0.520381593</td><td> 1.00000000</td><td>-0.31574707</td></tr>\n",
       "\t<tr><th scope=row>torque</th><td>-0.136214907</td><td>-0.25798240</td><td> 0.09550988</td><td>-0.753779010</td><td>-0.01841303</td><td>-0.04390256</td><td>-0.27409728</td><td> 0.99645726</td><td>-0.1171381</td><td>-0.117118395</td><td>-0.31574707</td><td> 1.00000000</td></tr>\n",
       "</tbody>\n",
       "</table>\n"
      ],
      "text/latex": [
       "A matrix: 12 × 12 of type dbl\n",
       "\\begin{tabular}{r|llllllllllll}\n",
       "  & u\\_q & coolant & stator\\_winding & u\\_d & stator\\_tooth & motor\\_speed & i\\_d & i\\_q & pm & stator\\_yoke & ambient & torque\\\\\n",
       "\\hline\n",
       "\tu\\_q &  1.000000000 &  0.05172100 &  0.05060983 &  0.004701759 &  0.10437324 &  0.68355601 & -0.10035698 & -0.12458913 &  0.1223646 &  0.090992024 &  0.15026430 & -0.13621491\\\\\n",
       "\tcoolant &  0.051720996 &  1.00000000 &  0.50483519 &  0.195517009 &  0.67497359 &  0.01187233 &  0.07486480 & -0.25638897 &  0.4671173 &  0.860750285 &  0.52596328 & -0.25798240\\\\\n",
       "\tstator\\_winding &  0.050609826 &  0.50483519 &  1.00000000 & -0.234950204 &  0.97013472 &  0.43203390 & -0.62436963 &  0.06561716 &  0.7958925 &  0.860268356 &  0.33320831 &  0.09550988\\\\\n",
       "\tu\\_d &  0.004701759 &  0.19551701 & -0.23495020 &  1.000000000 & -0.14274949 & -0.28847200 &  0.44833078 & -0.72306893 & -0.1720306 & -0.008097952 &  0.20364733 & -0.75377901\\\\\n",
       "\tstator\\_tooth &  0.104373235 &  0.67497359 &  0.97013472 & -0.142749488 &  1.00000000 &  0.39843075 & -0.48706209 & -0.04229356 &  0.8320839 &  0.953114534 &  0.44346971 & -0.01841303\\\\\n",
       "\tmotor\\_speed &  0.683556010 &  0.01187233 &  0.43203390 & -0.288471996 &  0.39843075 &  1.00000000 & -0.70060850 & -0.06888053 &  0.4589471 &  0.255789872 &  0.11823214 & -0.04390256\\\\\n",
       "\ti\\_d & -0.100356980 &  0.07486480 & -0.62436963 &  0.448330776 & -0.48706209 & -0.70060850 &  1.00000000 & -0.23134438 & -0.4277362 & -0.278004762 &  0.01639681 & -0.27409728\\\\\n",
       "\ti\\_q & -0.124589132 & -0.25638897 &  0.06561716 & -0.723068930 & -0.04229356 & -0.06888053 & -0.23134438 &  1.00000000 & -0.1424162 & -0.131465941 & -0.31404378 &  0.99645726\\\\\n",
       "\tpm &  0.122364640 &  0.46711732 &  0.79589251 & -0.172030583 &  0.83208390 &  0.45894708 & -0.42773622 & -0.14241620 &  1.0000000 &  0.756684277 &  0.51372786 & -0.11713814\\\\\n",
       "\tstator\\_yoke &  0.090992024 &  0.86075028 &  0.86026836 & -0.008097952 &  0.95311453 &  0.25578987 & -0.27800476 & -0.13146594 &  0.7566843 &  1.000000000 &  0.52038159 & -0.11711839\\\\\n",
       "\tambient &  0.150264303 &  0.52596328 &  0.33320831 &  0.203647334 &  0.44346971 &  0.11823214 &  0.01639681 & -0.31404378 &  0.5137279 &  0.520381593 &  1.00000000 & -0.31574707\\\\\n",
       "\ttorque & -0.136214907 & -0.25798240 &  0.09550988 & -0.753779010 & -0.01841303 & -0.04390256 & -0.27409728 &  0.99645726 & -0.1171381 & -0.117118395 & -0.31574707 &  1.00000000\\\\\n",
       "\\end{tabular}\n"
      ],
      "text/markdown": [
       "\n",
       "A matrix: 12 × 12 of type dbl\n",
       "\n",
       "| <!--/--> | u_q | coolant | stator_winding | u_d | stator_tooth | motor_speed | i_d | i_q | pm | stator_yoke | ambient | torque |\n",
       "|---|---|---|---|---|---|---|---|---|---|---|---|---|\n",
       "| u_q |  1.000000000 |  0.05172100 |  0.05060983 |  0.004701759 |  0.10437324 |  0.68355601 | -0.10035698 | -0.12458913 |  0.1223646 |  0.090992024 |  0.15026430 | -0.13621491 |\n",
       "| coolant |  0.051720996 |  1.00000000 |  0.50483519 |  0.195517009 |  0.67497359 |  0.01187233 |  0.07486480 | -0.25638897 |  0.4671173 |  0.860750285 |  0.52596328 | -0.25798240 |\n",
       "| stator_winding |  0.050609826 |  0.50483519 |  1.00000000 | -0.234950204 |  0.97013472 |  0.43203390 | -0.62436963 |  0.06561716 |  0.7958925 |  0.860268356 |  0.33320831 |  0.09550988 |\n",
       "| u_d |  0.004701759 |  0.19551701 | -0.23495020 |  1.000000000 | -0.14274949 | -0.28847200 |  0.44833078 | -0.72306893 | -0.1720306 | -0.008097952 |  0.20364733 | -0.75377901 |\n",
       "| stator_tooth |  0.104373235 |  0.67497359 |  0.97013472 | -0.142749488 |  1.00000000 |  0.39843075 | -0.48706209 | -0.04229356 |  0.8320839 |  0.953114534 |  0.44346971 | -0.01841303 |\n",
       "| motor_speed |  0.683556010 |  0.01187233 |  0.43203390 | -0.288471996 |  0.39843075 |  1.00000000 | -0.70060850 | -0.06888053 |  0.4589471 |  0.255789872 |  0.11823214 | -0.04390256 |\n",
       "| i_d | -0.100356980 |  0.07486480 | -0.62436963 |  0.448330776 | -0.48706209 | -0.70060850 |  1.00000000 | -0.23134438 | -0.4277362 | -0.278004762 |  0.01639681 | -0.27409728 |\n",
       "| i_q | -0.124589132 | -0.25638897 |  0.06561716 | -0.723068930 | -0.04229356 | -0.06888053 | -0.23134438 |  1.00000000 | -0.1424162 | -0.131465941 | -0.31404378 |  0.99645726 |\n",
       "| pm |  0.122364640 |  0.46711732 |  0.79589251 | -0.172030583 |  0.83208390 |  0.45894708 | -0.42773622 | -0.14241620 |  1.0000000 |  0.756684277 |  0.51372786 | -0.11713814 |\n",
       "| stator_yoke |  0.090992024 |  0.86075028 |  0.86026836 | -0.008097952 |  0.95311453 |  0.25578987 | -0.27800476 | -0.13146594 |  0.7566843 |  1.000000000 |  0.52038159 | -0.11711839 |\n",
       "| ambient |  0.150264303 |  0.52596328 |  0.33320831 |  0.203647334 |  0.44346971 |  0.11823214 |  0.01639681 | -0.31404378 |  0.5137279 |  0.520381593 |  1.00000000 | -0.31574707 |\n",
       "| torque | -0.136214907 | -0.25798240 |  0.09550988 | -0.753779010 | -0.01841303 | -0.04390256 | -0.27409728 |  0.99645726 | -0.1171381 | -0.117118395 | -0.31574707 |  1.00000000 |\n",
       "\n"
      ],
      "text/plain": [
       "               u_q          coolant     stator_winding u_d         \n",
       "u_q             1.000000000  0.05172100  0.05060983     0.004701759\n",
       "coolant         0.051720996  1.00000000  0.50483519     0.195517009\n",
       "stator_winding  0.050609826  0.50483519  1.00000000    -0.234950204\n",
       "u_d             0.004701759  0.19551701 -0.23495020     1.000000000\n",
       "stator_tooth    0.104373235  0.67497359  0.97013472    -0.142749488\n",
       "motor_speed     0.683556010  0.01187233  0.43203390    -0.288471996\n",
       "i_d            -0.100356980  0.07486480 -0.62436963     0.448330776\n",
       "i_q            -0.124589132 -0.25638897  0.06561716    -0.723068930\n",
       "pm              0.122364640  0.46711732  0.79589251    -0.172030583\n",
       "stator_yoke     0.090992024  0.86075028  0.86026836    -0.008097952\n",
       "ambient         0.150264303  0.52596328  0.33320831     0.203647334\n",
       "torque         -0.136214907 -0.25798240  0.09550988    -0.753779010\n",
       "               stator_tooth motor_speed i_d         i_q         pm        \n",
       "u_q             0.10437324   0.68355601 -0.10035698 -0.12458913  0.1223646\n",
       "coolant         0.67497359   0.01187233  0.07486480 -0.25638897  0.4671173\n",
       "stator_winding  0.97013472   0.43203390 -0.62436963  0.06561716  0.7958925\n",
       "u_d            -0.14274949  -0.28847200  0.44833078 -0.72306893 -0.1720306\n",
       "stator_tooth    1.00000000   0.39843075 -0.48706209 -0.04229356  0.8320839\n",
       "motor_speed     0.39843075   1.00000000 -0.70060850 -0.06888053  0.4589471\n",
       "i_d            -0.48706209  -0.70060850  1.00000000 -0.23134438 -0.4277362\n",
       "i_q            -0.04229356  -0.06888053 -0.23134438  1.00000000 -0.1424162\n",
       "pm              0.83208390   0.45894708 -0.42773622 -0.14241620  1.0000000\n",
       "stator_yoke     0.95311453   0.25578987 -0.27800476 -0.13146594  0.7566843\n",
       "ambient         0.44346971   0.11823214  0.01639681 -0.31404378  0.5137279\n",
       "torque         -0.01841303  -0.04390256 -0.27409728  0.99645726 -0.1171381\n",
       "               stator_yoke  ambient     torque     \n",
       "u_q             0.090992024  0.15026430 -0.13621491\n",
       "coolant         0.860750285  0.52596328 -0.25798240\n",
       "stator_winding  0.860268356  0.33320831  0.09550988\n",
       "u_d            -0.008097952  0.20364733 -0.75377901\n",
       "stator_tooth    0.953114534  0.44346971 -0.01841303\n",
       "motor_speed     0.255789872  0.11823214 -0.04390256\n",
       "i_d            -0.278004762  0.01639681 -0.27409728\n",
       "i_q            -0.131465941 -0.31404378  0.99645726\n",
       "pm              0.756684277  0.51372786 -0.11713814\n",
       "stator_yoke     1.000000000  0.52038159 -0.11711839\n",
       "ambient         0.520381593  1.00000000 -0.31574707\n",
       "torque         -0.117118395 -0.31574707  1.00000000"
      ]
     },
     "metadata": {},
     "output_type": "display_data"
    }
   ],
   "source": [
    "cor(df)"
   ]
  },
  {
   "cell_type": "markdown",
   "id": "3c3fe1e4-8057-457a-8811-1a6a6fabe6c1",
   "metadata": {},
   "source": [
    "The correlation coefficient matrix shows pairwise correlation among the variables. It can be seen that although the correlation between most of the 12 variables we selected is very weak, the correlation coefficient between i_q and torque has reached 0.996, and the abs of correlation coefficient between i_d and motor speed has reached 0.7. There may exist collinearity between the variables. "
   ]
  },
  {
   "cell_type": "code",
   "execution_count": 13,
   "id": "308d6ac2-b1d5-4fa1-bc65-5859741885f5",
   "metadata": {},
   "outputs": [
    {
     "data": {
      "image/png": "[encoded data removed]",
      "text/plain": [
       "plot without title"
      ]
     },
     "metadata": {
      "image/png": {
       "height": 420,
       "width": 420
      }
     },
     "output_type": "display_data"
    }
   ],
   "source": [
    "#distribution for the pm\n",
    "ggplot(df,aes(x=pm))+geom_histogram(binwidth=0.5,fill=\"lightblue\",colour=\"black\")"
   ]
  },
  {
   "cell_type": "code",
   "execution_count": 18,
   "id": "6011b1d0-8abd-4bd1-a7af-bcd5ad207a0b",
   "metadata": {},
   "outputs": [
    {
     "data": {
      "text/html": [
       "'20.8569564819336 113.606628417969'"
      ],
      "text/latex": [
       "'20.8569564819336 113.606628417969'"
      ],
      "text/markdown": [
       "'20.8569564819336 113.606628417969'"
      ],
      "text/plain": [
       "[1] \"20.8569564819336 113.606628417969\""
      ]
     },
     "metadata": {},
     "output_type": "display_data"
    }
   ],
   "source": [
    "paste(min(df$pm),max(df$pm))"
   ]
  },
  {
   "cell_type": "markdown",
   "id": "f12fbad3-e14e-4af7-85b9-909e8ec20011",
   "metadata": {},
   "source": [
    "The density curve of pm is a little right skewed, ranges from 20 to 113."
   ]
  },
  {
   "cell_type": "markdown",
   "id": "f9aeeb5e-6002-4bb5-8368-fa9eb466d2e3",
   "metadata": {},
   "source": [
    "## Step 4: Multiple Linear Regression"
   ]
  },
  {
   "cell_type": "markdown",
   "id": "af13a3c3-2c13-4641-be0a-1b34e3fa33a0",
   "metadata": {},
   "source": [
    "### Initial attempt"
   ]
  },
  {
   "cell_type": "code",
   "execution_count": 20,
   "id": "bc5e60d0-7b1a-4683-b532-d2c7244d66cf",
   "metadata": {},
   "outputs": [
    {
     "data": {
      "text/plain": [
       "\n",
       "Call:\n",
       "lm(formula = pm ~ ., data = df)\n",
       "\n",
       "Coefficients:\n",
       "   (Intercept)             u_q         coolant  stator_winding             u_d  \n",
       "    -18.592273       -0.131639       -0.185264       -1.599567       -0.019252  \n",
       "  stator_tooth     motor_speed             i_d             i_q     stator_yoke  \n",
       "      3.966738        0.002941        0.042824       -0.010012       -1.571968  \n",
       "       ambient          torque  \n",
       "      1.766692        0.005184  \n"
      ]
     },
     "metadata": {},
     "output_type": "display_data"
    },
    {
     "data": {
      "text/plain": [
       "\n",
       "Call:\n",
       "lm(formula = pm ~ ., data = df)\n",
       "\n",
       "Residuals:\n",
       "    Min      1Q  Median      3Q     Max \n",
       "-45.562  -4.563  -0.453   3.914  40.015 \n",
       "\n",
       "Coefficients:\n",
       "                 Estimate Std. Error  t value Pr(>|t|)    \n",
       "(Intercept)    -1.859e+01  9.405e-02 -197.682  < 2e-16 ***\n",
       "u_q            -1.316e-01  3.289e-04 -400.283  < 2e-16 ***\n",
       "coolant        -1.853e-01  1.962e-03  -94.450  < 2e-16 ***\n",
       "stator_winding -1.600e+00  3.125e-03 -511.813  < 2e-16 ***\n",
       "u_d            -1.925e-02  2.179e-04  -88.340  < 2e-16 ***\n",
       "stator_tooth    3.967e+00  7.657e-03  518.050  < 2e-16 ***\n",
       "motor_speed     2.941e-03  1.316e-05  223.568  < 2e-16 ***\n",
       "i_d             4.282e-02  3.122e-04  137.179  < 2e-16 ***\n",
       "i_q            -1.001e-02  1.092e-03   -9.165  < 2e-16 ***\n",
       "stator_yoke    -1.572e+00  6.824e-03 -230.370  < 2e-16 ***\n",
       "ambient         1.767e+00  4.156e-03  425.069  < 2e-16 ***\n",
       "torque          5.184e-03  1.391e-03    3.727 0.000194 ***\n",
       "---\n",
       "Signif. codes:  0 '***' 0.001 '**' 0.01 '*' 0.05 '.' 0.1 ' ' 1\n",
       "\n",
       "Residual standard error: 7.237 on 1330804 degrees of freedom\n",
       "Multiple R-squared:  0.8549,\tAdjusted R-squared:  0.8549 \n",
       "F-statistic: 7.131e+05 on 11 and 1330804 DF,  p-value: < 2.2e-16\n"
      ]
     },
     "metadata": {},
     "output_type": "display_data"
    }
   ],
   "source": [
    "model1=lm(pm~.,data=df)\n",
    "model1\n",
    "summary(model1)"
   ]
  },
  {
   "cell_type": "markdown",
   "id": "d8e7c2f4-3cd3-48fb-ad17-9db3b1545b38",
   "metadata": {},
   "source": [
    "It shows all variables are significant in this model. The p-value for the model F-test is very small, which justifies the use of a linear model here.  \n",
    "The adjusted R-squared value is 0.8549, which means the predictors explain over 85% of the variation in rotor temperature, which is a good result."
   ]
  },
  {
   "cell_type": "markdown",
   "id": "2eeaae33-13f9-4a52-be60-2793b0b6301e",
   "metadata": {},
   "source": [
    "### Model diagnostic"
   ]
  },
  {
   "cell_type": "markdown",
   "id": "ce73f00d-83b8-45a0-9027-c135af2162b9",
   "metadata": {},
   "source": [
    "(1) Residual Plot to identify non-linearity/heteroscedasticity."
   ]
  },
  {
   "cell_type": "code",
   "execution_count": 26,
   "id": "763b7605-0c09-4d23-b3b6-4fbfcd5b6dce",
   "metadata": {},
   "outputs": [
    {
     "data": {
      "image/png": "[encoded data removed]",
      "text/plain": [
       "plot without title"
      ]
     },
     "metadata": {
      "image/png": {
       "height": 420,
       "width": 420
      }
     },
     "output_type": "display_data"
    }
   ],
   "source": [
    "plot(fitted(model1),resid(model1))\n",
    "abline(h=0)"
   ]
  },
  {
   "cell_type": "markdown",
   "id": "6f5ead77-0224-4871-8713-36de2f58b099",
   "metadata": {},
   "source": [
    "(2) Correlation of error terms: D-W test & paired scatter plot of residual series."
   ]
  },
  {
   "cell_type": "code",
   "execution_count": 29,
   "id": "620888c2-eaa1-45a9-9b82-a5fcfd9042a5",
   "metadata": {},
   "outputs": [
    {
     "data": {
      "text/plain": [
       "\n",
       "\tDurbin-Watson test\n",
       "\n",
       "data:  pm ~ .\n",
       "DW = 0.0015506, p-value < 2.2e-16\n",
       "alternative hypothesis: true autocorrelation is greater than 0\n"
      ]
     },
     "metadata": {},
     "output_type": "display_data"
    }
   ],
   "source": [
    "#D-W test\n",
    "require(lmtest)\n",
    "dwtest(pm~.,data=df)"
   ]
  },
  {
   "cell_type": "code",
   "execution_count": 30,
   "id": "6b64c6fe-c6cd-4321-b165-bd0de9739aca",
   "metadata": {},
   "outputs": [
    {
     "data": {
      "text/plain": [
       "\n",
       "Call:\n",
       "lm(formula = tail(residuals(model1), n - 1) ~ head(residuals(model1), \n",
       "    n - 1))\n",
       "\n",
       "Residuals:\n",
       "    Min      1Q  Median      3Q     Max \n",
       "-33.847  -0.102  -0.002   0.100  17.504 \n",
       "\n",
       "Coefficients:\n",
       "                                Estimate Std. Error   t value Pr(>|t|)    \n",
       "(Intercept)                    9.735e-06  2.470e-04     0.039    0.969    \n",
       "head(residuals(model1), n - 1) 9.992e-01  3.413e-05 29279.078   <2e-16 ***\n",
       "---\n",
       "Signif. codes:  0 '***' 0.001 '**' 0.01 '*' 0.05 '.' 0.1 ' ' 1\n",
       "\n",
       "Residual standard error: 0.2849 on 1330813 degrees of freedom\n",
       "Multiple R-squared:  0.9985,\tAdjusted R-squared:  0.9985 \n",
       "F-statistic: 8.573e+08 on 1 and 1330813 DF,  p-value: < 2.2e-16\n"
      ]
     },
     "metadata": {},
     "output_type": "display_data"
    },
    {
     "data": {
      "image/png": "[encoded data removed]",
      "text/plain": [
       "plot without title"
      ]
     },
     "metadata": {
      "image/png": {
       "height": 420,
       "width": 420
      }
     },
     "output_type": "display_data"
    }
   ],
   "source": [
    "#residual series\n",
    "n=length(residuals(model1))\n",
    "plot(tail(residuals(model1),n-1)~head(residuals(model1),n-1),xlab=expression(hat(epsilon)[i]),ylab=expression(hat(epsilon)[i+1]))\n",
    "summary(lm(tail(residuals(model1),n-1)~head(residuals(model1),n-1)))"
   ]
  },
  {
   "cell_type": "markdown",
   "id": "ef0cf676-b8f6-49e9-926e-8b5df2635790",
   "metadata": {},
   "source": [
    "The residuals are highly correlated... It may because the measures are recorded in a time sequence."
   ]
  },
  {
   "cell_type": "markdown",
   "id": "7de0b5a5-c1d8-4263-a4a5-83233dc5679c",
   "metadata": {},
   "source": [
    "(3) Normality of residuals"
   ]
  },
  {
   "cell_type": "code",
   "execution_count": 31,
   "id": "3f684b44-c2b3-4c71-8039-ef44a21f9cbb",
   "metadata": {},
   "outputs": [
    {
     "data": {
      "image/png": "[encoded data removed]",
      "text/plain": [
       "Plot with title \"Normal Q-Q Plot\""
      ]
     },
     "metadata": {
      "image/png": {
       "height": 420,
       "width": 420
      }
     },
     "output_type": "display_data"
    }
   ],
   "source": [
    "qqnorm(resid(model1))\n",
    "qqline(resid(model1))"
   ]
  },
  {
   "cell_type": "markdown",
   "id": "e360c547-27b4-4a94-9b7b-8bec47d6df9d",
   "metadata": {},
   "source": [
    "The residuals may not satisfy the normality assumption..."
   ]
  },
  {
   "cell_type": "markdown",
   "id": "b09eec0a-36b5-4b7d-86df-108f61ee8b17",
   "metadata": {},
   "source": [
    "(4) Outliers(yi is far from the predicted value)"
   ]
  },
  {
   "cell_type": "code",
   "execution_count": 34,
   "id": "309b4d8b-2449-46e3-ba3f-87088a73b4ad",
   "metadata": {},
   "outputs": [
    {
     "data": {
      "text/html": [
       "<strong>606281:</strong> -6.29588472013882"
      ],
      "text/latex": [
       "\\textbf{606281:} -6.29588472013882"
      ],
      "text/markdown": [
       "**606281:** -6.29588472013882"
      ],
      "text/plain": [
       "   606281 \n",
       "-6.295885 "
      ]
     },
     "metadata": {},
     "output_type": "display_data"
    },
    {
     "data": {
      "text/html": [
       "<style>\n",
       ".dl-inline {width: auto; margin:0; padding: 0}\n",
       ".dl-inline>dt, .dl-inline>dd {float: none; width: auto; display: inline-block}\n",
       ".dl-inline>dt::after {content: \":\\0020\"; padding-right: .5ex}\n",
       ".dl-inline>dt:not(:first-of-type) {padding-left: .5ex}\n",
       "</style><dl class=dl-inline><dt>252299</dt><dd>5.50887373968047</dd><dt>252300</dt><dd>5.52377180153</dd><dt>252301</dt><dd>5.52595141168213</dd><dt>252302</dt><dd>5.52938004732797</dd><dt>252303</dt><dd>5.52339071369702</dd><dt>252304</dt><dd>5.51460370193626</dd><dt>252305</dt><dd>5.50585368558079</dd><dt>606245</dt><dd>-5.52335959273835</dd><dt>606246</dt><dd>-5.53743265860978</dd><dt>606247</dt><dd>-5.55638436970531</dd><dt>606248</dt><dd>-5.58054276653191</dd><dt>606249</dt><dd>-5.57071234400933</dd><dt>606250</dt><dd>-5.55570709256389</dd><dt>606251</dt><dd>-5.55241806286432</dd><dt>606252</dt><dd>-5.5801386410793</dd><dt>606253</dt><dd>-5.60498614389451</dd><dt>606254</dt><dd>-5.62248922420427</dd><dt>606255</dt><dd>-5.6597686690229</dd><dt>606256</dt><dd>-5.70985256915616</dd><dt>606257</dt><dd>-5.75720404230742</dd><dt>606258</dt><dd>-5.74826530274597</dd><dt>606259</dt><dd>-5.74343533498571</dd><dt>606260</dt><dd>-5.75289453633535</dd><dt>606261</dt><dd>-5.73385598734988</dd><dt>606262</dt><dd>-5.71755023569418</dd><dt>606263</dt><dd>-5.72851724262032</dd><dt>606264</dt><dd>-5.72824845842823</dd><dt>606265</dt><dd>-5.73394590643329</dd><dt>606266</dt><dd>-5.747460132154</dd><dt>606267</dt><dd>-5.76213272661388</dd><dt>606268</dt><dd>-5.79103289844231</dd><dt>606269</dt><dd>-5.81352293111764</dd><dt>606270</dt><dd>-5.83038701974874</dd><dt>606271</dt><dd>-5.86464708397679</dd><dt>606272</dt><dd>-5.91023840626215</dd><dt>606273</dt><dd>-5.91468334708973</dd><dt>606274</dt><dd>-5.87791731277027</dd><dt>606275</dt><dd>-5.85937911482168</dd><dt>606276</dt><dd>-5.87494339399717</dd><dt>606277</dt><dd>-5.98871609180371</dd><dt>606278</dt><dd>-6.11734057881365</dd><dt>606279</dt><dd>-6.2178807983757</dd><dt>606280</dt><dd>-6.2929595292655</dd><dt>606281</dt><dd>-6.29588472013882</dd><dt>606282</dt><dd>-6.27346852783353</dd><dt>606283</dt><dd>-6.25279343919459</dd><dt>606284</dt><dd>-6.23652234881465</dd><dt>606285</dt><dd>-6.20033851565941</dd><dt>606286</dt><dd>-6.15041693346629</dd><dt>606287</dt><dd>-6.08592266758685</dd><dt>606288</dt><dd>-6.01333960005301</dd><dt>606289</dt><dd>-5.94594166430456</dd><dt>606290</dt><dd>-5.88190188723579</dd><dt>606291</dt><dd>-5.82261478846628</dd><dt>606292</dt><dd>-5.77718631315851</dd><dt>606293</dt><dd>-5.7454469849415</dd><dt>606294</dt><dd>-5.73825178702402</dd><dt>606295</dt><dd>-5.73505983649651</dd><dt>606296</dt><dd>-5.74517082054795</dd><dt>606297</dt><dd>-5.77349537014241</dd><dt>606298</dt><dd>-5.80347822665353</dd><dt>606299</dt><dd>-5.83736268660171</dd><dt>606300</dt><dd>-5.86416673898432</dd><dt>606301</dt><dd>-5.91598482847699</dd><dt>606302</dt><dd>-5.97489677842312</dd><dt>606303</dt><dd>-6.03325148582463</dd><dt>606304</dt><dd>-6.0843376273247</dd><dt>606305</dt><dd>-6.13342898667953</dd><dt>606306</dt><dd>-6.16739673845106</dd><dt>606307</dt><dd>-6.1980353505169</dd><dt>606308</dt><dd>-6.22050393637589</dd><dt>606309</dt><dd>-6.24151108157401</dd><dt>606310</dt><dd>-6.15022439774967</dd><dt>606311</dt><dd>-6.06311453433666</dd><dt>606312</dt><dd>-5.9999645275572</dd><dt>606313</dt><dd>-5.96540345170887</dd><dt>606314</dt><dd>-5.96998618850871</dd><dt>606315</dt><dd>-5.97632268635861</dd><dt>606316</dt><dd>-5.96330728985304</dd><dt>606317</dt><dd>-5.9486224915011</dd><dt>606318</dt><dd>-5.90073498941939</dd><dt>606319</dt><dd>-5.84404860759224</dd><dt>606320</dt><dd>-5.80106236062509</dd><dt>606321</dt><dd>-5.76866387070777</dd><dt>606322</dt><dd>-5.72373745461788</dd><dt>606323</dt><dd>-5.69059595179595</dd><dt>606324</dt><dd>-5.67994716268437</dd><dt>606325</dt><dd>-5.6820113180848</dd><dt>606326</dt><dd>-5.67382883091595</dd><dt>606327</dt><dd>-5.67865610364727</dd><dt>606328</dt><dd>-5.68029818428397</dd><dt>606329</dt><dd>-5.6930068983953</dd><dt>606330</dt><dd>-5.7122792250661</dd><dt>606331</dt><dd>-5.72493636581381</dd><dt>606332</dt><dd>-5.71441603439353</dd><dt>606333</dt><dd>-5.69338524290191</dd><dt>606334</dt><dd>-5.66682024192866</dd><dt>606335</dt><dd>-5.61385214953006</dd><dt>609327</dt><dd>-5.51940959143588</dd><dt>609328</dt><dd>-5.53681120758763</dd><dt>609329</dt><dd>-5.52656587842656</dd></dl>\n"
      ],
      "text/latex": [
       "\\begin{description*}\n",
       "\\item[252299] 5.50887373968047\n",
       "\\item[252300] 5.52377180153\n",
       "\\item[252301] 5.52595141168213\n",
       "\\item[252302] 5.52938004732797\n",
       "\\item[252303] 5.52339071369702\n",
       "\\item[252304] 5.51460370193626\n",
       "\\item[252305] 5.50585368558079\n",
       "\\item[606245] -5.52335959273835\n",
       "\\item[606246] -5.53743265860978\n",
       "\\item[606247] -5.55638436970531\n",
       "\\item[606248] -5.58054276653191\n",
       "\\item[606249] -5.57071234400933\n",
       "\\item[606250] -5.55570709256389\n",
       "\\item[606251] -5.55241806286432\n",
       "\\item[606252] -5.5801386410793\n",
       "\\item[606253] -5.60498614389451\n",
       "\\item[606254] -5.62248922420427\n",
       "\\item[606255] -5.6597686690229\n",
       "\\item[606256] -5.70985256915616\n",
       "\\item[606257] -5.75720404230742\n",
       "\\item[606258] -5.74826530274597\n",
       "\\item[606259] -5.74343533498571\n",
       "\\item[606260] -5.75289453633535\n",
       "\\item[606261] -5.73385598734988\n",
       "\\item[606262] -5.71755023569418\n",
       "\\item[606263] -5.72851724262032\n",
       "\\item[606264] -5.72824845842823\n",
       "\\item[606265] -5.73394590643329\n",
       "\\item[606266] -5.747460132154\n",
       "\\item[606267] -5.76213272661388\n",
       "\\item[606268] -5.79103289844231\n",
       "\\item[606269] -5.81352293111764\n",
       "\\item[606270] -5.83038701974874\n",
       "\\item[606271] -5.86464708397679\n",
       "\\item[606272] -5.91023840626215\n",
       "\\item[606273] -5.91468334708973\n",
       "\\item[606274] -5.87791731277027\n",
       "\\item[606275] -5.85937911482168\n",
       "\\item[606276] -5.87494339399717\n",
       "\\item[606277] -5.98871609180371\n",
       "\\item[606278] -6.11734057881365\n",
       "\\item[606279] -6.2178807983757\n",
       "\\item[606280] -6.2929595292655\n",
       "\\item[606281] -6.29588472013882\n",
       "\\item[606282] -6.27346852783353\n",
       "\\item[606283] -6.25279343919459\n",
       "\\item[606284] -6.23652234881465\n",
       "\\item[606285] -6.20033851565941\n",
       "\\item[606286] -6.15041693346629\n",
       "\\item[606287] -6.08592266758685\n",
       "\\item[606288] -6.01333960005301\n",
       "\\item[606289] -5.94594166430456\n",
       "\\item[606290] -5.88190188723579\n",
       "\\item[606291] -5.82261478846628\n",
       "\\item[606292] -5.77718631315851\n",
       "\\item[606293] -5.7454469849415\n",
       "\\item[606294] -5.73825178702402\n",
       "\\item[606295] -5.73505983649651\n",
       "\\item[606296] -5.74517082054795\n",
       "\\item[606297] -5.77349537014241\n",
       "\\item[606298] -5.80347822665353\n",
       "\\item[606299] -5.83736268660171\n",
       "\\item[606300] -5.86416673898432\n",
       "\\item[606301] -5.91598482847699\n",
       "\\item[606302] -5.97489677842312\n",
       "\\item[606303] -6.03325148582463\n",
       "\\item[606304] -6.0843376273247\n",
       "\\item[606305] -6.13342898667953\n",
       "\\item[606306] -6.16739673845106\n",
       "\\item[606307] -6.1980353505169\n",
       "\\item[606308] -6.22050393637589\n",
       "\\item[606309] -6.24151108157401\n",
       "\\item[606310] -6.15022439774967\n",
       "\\item[606311] -6.06311453433666\n",
       "\\item[606312] -5.9999645275572\n",
       "\\item[606313] -5.96540345170887\n",
       "\\item[606314] -5.96998618850871\n",
       "\\item[606315] -5.97632268635861\n",
       "\\item[606316] -5.96330728985304\n",
       "\\item[606317] -5.9486224915011\n",
       "\\item[606318] -5.90073498941939\n",
       "\\item[606319] -5.84404860759224\n",
       "\\item[606320] -5.80106236062509\n",
       "\\item[606321] -5.76866387070777\n",
       "\\item[606322] -5.72373745461788\n",
       "\\item[606323] -5.69059595179595\n",
       "\\item[606324] -5.67994716268437\n",
       "\\item[606325] -5.6820113180848\n",
       "\\item[606326] -5.67382883091595\n",
       "\\item[606327] -5.67865610364727\n",
       "\\item[606328] -5.68029818428397\n",
       "\\item[606329] -5.6930068983953\n",
       "\\item[606330] -5.7122792250661\n",
       "\\item[606331] -5.72493636581381\n",
       "\\item[606332] -5.71441603439353\n",
       "\\item[606333] -5.69338524290191\n",
       "\\item[606334] -5.66682024192866\n",
       "\\item[606335] -5.61385214953006\n",
       "\\item[609327] -5.51940959143588\n",
       "\\item[609328] -5.53681120758763\n",
       "\\item[609329] -5.52656587842656\n",
       "\\end{description*}\n"
      ],
      "text/markdown": [
       "252299\n",
       ":   5.50887373968047252300\n",
       ":   5.52377180153252301\n",
       ":   5.52595141168213252302\n",
       ":   5.52938004732797252303\n",
       ":   5.52339071369702252304\n",
       ":   5.51460370193626252305\n",
       ":   5.50585368558079606245\n",
       ":   -5.52335959273835606246\n",
       ":   -5.53743265860978606247\n",
       ":   -5.55638436970531606248\n",
       ":   -5.58054276653191606249\n",
       ":   -5.57071234400933606250\n",
       ":   -5.55570709256389606251\n",
       ":   -5.55241806286432606252\n",
       ":   -5.5801386410793606253\n",
       ":   -5.60498614389451606254\n",
       ":   -5.62248922420427606255\n",
       ":   -5.6597686690229606256\n",
       ":   -5.70985256915616606257\n",
       ":   -5.75720404230742606258\n",
       ":   -5.74826530274597606259\n",
       ":   -5.74343533498571606260\n",
       ":   -5.75289453633535606261\n",
       ":   -5.73385598734988606262\n",
       ":   -5.71755023569418606263\n",
       ":   -5.72851724262032606264\n",
       ":   -5.72824845842823606265\n",
       ":   -5.73394590643329606266\n",
       ":   -5.747460132154606267\n",
       ":   -5.76213272661388606268\n",
       ":   -5.79103289844231606269\n",
       ":   -5.81352293111764606270\n",
       ":   -5.83038701974874606271\n",
       ":   -5.86464708397679606272\n",
       ":   -5.91023840626215606273\n",
       ":   -5.91468334708973606274\n",
       ":   -5.87791731277027606275\n",
       ":   -5.85937911482168606276\n",
       ":   -5.87494339399717606277\n",
       ":   -5.98871609180371606278\n",
       ":   -6.11734057881365606279\n",
       ":   -6.2178807983757606280\n",
       ":   -6.2929595292655606281\n",
       ":   -6.29588472013882606282\n",
       ":   -6.27346852783353606283\n",
       ":   -6.25279343919459606284\n",
       ":   -6.23652234881465606285\n",
       ":   -6.20033851565941606286\n",
       ":   -6.15041693346629606287\n",
       ":   -6.08592266758685606288\n",
       ":   -6.01333960005301606289\n",
       ":   -5.94594166430456606290\n",
       ":   -5.88190188723579606291\n",
       ":   -5.82261478846628606292\n",
       ":   -5.77718631315851606293\n",
       ":   -5.7454469849415606294\n",
       ":   -5.73825178702402606295\n",
       ":   -5.73505983649651606296\n",
       ":   -5.74517082054795606297\n",
       ":   -5.77349537014241606298\n",
       ":   -5.80347822665353606299\n",
       ":   -5.83736268660171606300\n",
       ":   -5.86416673898432606301\n",
       ":   -5.91598482847699606302\n",
       ":   -5.97489677842312606303\n",
       ":   -6.03325148582463606304\n",
       ":   -6.0843376273247606305\n",
       ":   -6.13342898667953606306\n",
       ":   -6.16739673845106606307\n",
       ":   -6.1980353505169606308\n",
       ":   -6.22050393637589606309\n",
       ":   -6.24151108157401606310\n",
       ":   -6.15022439774967606311\n",
       ":   -6.06311453433666606312\n",
       ":   -5.9999645275572606313\n",
       ":   -5.96540345170887606314\n",
       ":   -5.96998618850871606315\n",
       ":   -5.97632268635861606316\n",
       ":   -5.96330728985304606317\n",
       ":   -5.9486224915011606318\n",
       ":   -5.90073498941939606319\n",
       ":   -5.84404860759224606320\n",
       ":   -5.80106236062509606321\n",
       ":   -5.76866387070777606322\n",
       ":   -5.72373745461788606323\n",
       ":   -5.69059595179595606324\n",
       ":   -5.67994716268437606325\n",
       ":   -5.6820113180848606326\n",
       ":   -5.67382883091595606327\n",
       ":   -5.67865610364727606328\n",
       ":   -5.68029818428397606329\n",
       ":   -5.6930068983953606330\n",
       ":   -5.7122792250661606331\n",
       ":   -5.72493636581381606332\n",
       ":   -5.71441603439353606333\n",
       ":   -5.69338524290191606334\n",
       ":   -5.66682024192866606335\n",
       ":   -5.61385214953006609327\n",
       ":   -5.51940959143588609328\n",
       ":   -5.53681120758763609329\n",
       ":   -5.52656587842656\n",
       "\n"
      ],
      "text/plain": [
       "   252299    252300    252301    252302    252303    252304    252305    606245 \n",
       " 5.508874  5.523772  5.525951  5.529380  5.523391  5.514604  5.505854 -5.523360 \n",
       "   606246    606247    606248    606249    606250    606251    606252    606253 \n",
       "-5.537433 -5.556384 -5.580543 -5.570712 -5.555707 -5.552418 -5.580139 -5.604986 \n",
       "   606254    606255    606256    606257    606258    606259    606260    606261 \n",
       "-5.622489 -5.659769 -5.709853 -5.757204 -5.748265 -5.743435 -5.752895 -5.733856 \n",
       "   606262    606263    606264    606265    606266    606267    606268    606269 \n",
       "-5.717550 -5.728517 -5.728248 -5.733946 -5.747460 -5.762133 -5.791033 -5.813523 \n",
       "   606270    606271    606272    606273    606274    606275    606276    606277 \n",
       "-5.830387 -5.864647 -5.910238 -5.914683 -5.877917 -5.859379 -5.874943 -5.988716 \n",
       "   606278    606279    606280    606281    606282    606283    606284    606285 \n",
       "-6.117341 -6.217881 -6.292960 -6.295885 -6.273469 -6.252793 -6.236522 -6.200339 \n",
       "   606286    606287    606288    606289    606290    606291    606292    606293 \n",
       "-6.150417 -6.085923 -6.013340 -5.945942 -5.881902 -5.822615 -5.777186 -5.745447 \n",
       "   606294    606295    606296    606297    606298    606299    606300    606301 \n",
       "-5.738252 -5.735060 -5.745171 -5.773495 -5.803478 -5.837363 -5.864167 -5.915985 \n",
       "   606302    606303    606304    606305    606306    606307    606308    606309 \n",
       "-5.974897 -6.033251 -6.084338 -6.133429 -6.167397 -6.198035 -6.220504 -6.241511 \n",
       "   606310    606311    606312    606313    606314    606315    606316    606317 \n",
       "-6.150224 -6.063115 -5.999965 -5.965403 -5.969986 -5.976323 -5.963307 -5.948622 \n",
       "   606318    606319    606320    606321    606322    606323    606324    606325 \n",
       "-5.900735 -5.844049 -5.801062 -5.768664 -5.723737 -5.690596 -5.679947 -5.682011 \n",
       "   606326    606327    606328    606329    606330    606331    606332    606333 \n",
       "-5.673829 -5.678656 -5.680298 -5.693007 -5.712279 -5.724936 -5.714416 -5.693385 \n",
       "   606334    606335    609327    609328    609329 \n",
       "-5.666820 -5.613852 -5.519410 -5.536811 -5.526566 "
      ]
     },
     "metadata": {},
     "output_type": "display_data"
    }
   ],
   "source": [
    "stud=rstudent(model1)#studendized residual\n",
    "stud[which.max(abs(stud))]#the max value\n",
    "stud[abs(stud)>abs(qt(0.05/(1330816*2),1330804))]#outliers\n",
    "#abs(qt(0.05/(1330816*2),1330804): the critical value of Bonferroni test: 1330816: sample size, 1330804: degree of freedom"
   ]
  },
  {
   "cell_type": "markdown",
   "id": "d7c28148-9760-4b1f-9e74-596dfe1437a4",
   "metadata": {},
   "source": [
    "The outliers are continuously: 252299-252305, 606245-606335, 609327-609329. I will recommend check if there's some measure error or something else with those samples. With no additional information provided, I will just keep those outliers."
   ]
  },
  {
   "cell_type": "markdown",
   "id": "bcef3d73-b87b-4676-9c81-62e784c233ba",
   "metadata": {},
   "source": [
    "(5) High-leverage points(unusual xi values, tend to have a higher impact on estimated regression line, not necessarily an influential point."
   ]
  },
  {
   "cell_type": "code",
   "execution_count": null,
   "id": "b9c3c633-92cf-4f3e-97ed-855b4f746754",
   "metadata": {},
   "outputs": [],
   "source": [
    "library(faraway)\n",
    "hatv=hatvalues(model1)"
   ]
  },
  {
   "cell_type": "code",
   "execution_count": 40,
   "id": "f5edbee9-cdbd-494d-9eb0-96de9656072c",
   "metadata": {},
   "outputs": [
    {
     "data": {
      "image/png": "[encoded data removed]",
      "text/plain": [
       "plot without title"
      ]
     },
     "metadata": {
      "image/png": {
       "height": 420,
       "width": 420
      }
     },
     "output_type": "display_data"
    }
   ],
   "source": [
    "halfnorm(hatv,3,ylab=\"leverages\")"
   ]
  },
  {
   "cell_type": "markdown",
   "id": "cc0c5f1f-61b9-4906-9a30-8e01e83d065e",
   "metadata": {},
   "source": [
    "(6) Influential points: observations having a relatively large effect on the regression model's predictions"
   ]
  },
  {
   "cell_type": "code",
   "execution_count": 41,
   "id": "10bd8408-c9f7-46fd-837a-77fa2aa77ca5",
   "metadata": {},
   "outputs": [
    {
     "data": {
      "text/html": [
       "<style>\n",
       ".dl-inline {width: auto; margin:0; padding: 0}\n",
       ".dl-inline>dt, .dl-inline>dd {float: none; width: auto; display: inline-block}\n",
       ".dl-inline>dt::after {content: \":\\0020\"; padding-right: .5ex}\n",
       ".dl-inline>dt:not(:first-of-type) {padding-left: .5ex}\n",
       "</style><dl class=dl-inline><dt>283720</dt><dd>1.31736754180472e-20</dd><dt>1048974</dt><dd>8.08961295260762e-20</dd><dt>157119</dt><dd>2.00301841732884e-19</dd><dt>927761</dt><dd>3.72650111828008e-19</dd><dt>881375</dt><dd>2.2769042897166e-18</dd><dt>1136521</dt><dd>3.32186025895295e-18</dd></dl>\n"
      ],
      "text/latex": [
       "\\begin{description*}\n",
       "\\item[283720] 1.31736754180472e-20\n",
       "\\item[1048974] 8.08961295260762e-20\n",
       "\\item[157119] 2.00301841732884e-19\n",
       "\\item[927761] 3.72650111828008e-19\n",
       "\\item[881375] 2.2769042897166e-18\n",
       "\\item[1136521] 3.32186025895295e-18\n",
       "\\end{description*}\n"
      ],
      "text/markdown": [
       "283720\n",
       ":   1.31736754180472e-201048974\n",
       ":   8.08961295260762e-20157119\n",
       ":   2.00301841732884e-19927761\n",
       ":   3.72650111828008e-19881375\n",
       ":   2.2769042897166e-181136521\n",
       ":   3.32186025895295e-18\n",
       "\n"
      ],
      "text/plain": [
       "      283720      1048974       157119       927761       881375      1136521 \n",
       "1.317368e-20 8.089613e-20 2.003018e-19 3.726501e-19 2.276904e-18 3.321860e-18 "
      ]
     },
     "metadata": {},
     "output_type": "display_data"
    },
    {
     "data": {
      "image/png": "[encoded data removed]",
      "text/plain": [
       "plot without title"
      ]
     },
     "metadata": {
      "image/png": {
       "height": 420,
       "width": 420
      }
     },
     "output_type": "display_data"
    }
   ],
   "source": [
    "cook=cooks.distance(model1)\n",
    "head(sort(cook))\n",
    "halfnorm(cook,3,ylab=\"Cook's distances\")"
   ]
  },
  {
   "cell_type": "markdown",
   "id": "8dc8d782-b285-43db-bc69-ecfa701b929d",
   "metadata": {},
   "source": [
    "(7) Collinearity: two or more predictor variables are closely related to one another. "
   ]
  },
  {
   "cell_type": "code",
   "execution_count": 42,
   "id": "84085c01-589c-437d-bdfa-9aecc542eeb6",
   "metadata": {},
   "outputs": [
    {
     "data": {
      "text/html": [
       "<style>\n",
       ".list-inline {list-style: none; margin:0; padding: 0}\n",
       ".list-inline>li {display: inline-block}\n",
       ".list-inline>li:not(:last-child)::after {content: \"\\00b7\"; padding: 0 .5ex}\n",
       "</style>\n",
       "<ol class=list-inline><li>11083808494529.2</li><li>25125620140.2722</li><li>6835331966.32689</li><li>3411148252.04839</li><li>1613920530.16857</li><li>376335260.029233</li><li>186457890.748006</li><li>75531388.5265116</li><li>16893229.5093236</li><li>4880515.12865432</li><li>492590.361433562</li></ol>\n"
      ],
      "text/latex": [
       "\\begin{enumerate*}\n",
       "\\item 11083808494529.2\n",
       "\\item 25125620140.2722\n",
       "\\item 6835331966.32689\n",
       "\\item 3411148252.04839\n",
       "\\item 1613920530.16857\n",
       "\\item 376335260.029233\n",
       "\\item 186457890.748006\n",
       "\\item 75531388.5265116\n",
       "\\item 16893229.5093236\n",
       "\\item 4880515.12865432\n",
       "\\item 492590.361433562\n",
       "\\end{enumerate*}\n"
      ],
      "text/markdown": [
       "1. 11083808494529.2\n",
       "2. 25125620140.2722\n",
       "3. 6835331966.32689\n",
       "4. 3411148252.04839\n",
       "5. 1613920530.16857\n",
       "6. 376335260.029233\n",
       "7. 186457890.748006\n",
       "8. 75531388.5265116\n",
       "9. 16893229.5093236\n",
       "10. 4880515.12865432\n",
       "11. 492590.361433562\n",
       "\n",
       "\n"
      ],
      "text/plain": [
       " [1] 1.108381e+13 2.512562e+10 6.835332e+09 3.411148e+09 1.613921e+09\n",
       " [6] 3.763353e+08 1.864579e+08 7.553139e+07 1.689323e+07 4.880515e+06\n",
       "[11] 4.925904e+05"
      ]
     },
     "metadata": {},
     "output_type": "display_data"
    },
    {
     "data": {
      "text/html": [
       "<style>\n",
       ".list-inline {list-style: none; margin:0; padding: 0}\n",
       ".list-inline>li {display: inline-block}\n",
       ".list-inline>li:not(:last-child)::after {content: \"\\00b7\"; padding: 0 .5ex}\n",
       "</style>\n",
       "<ol class=list-inline><li>1</li><li>21.0032311454082</li><li>40.2684303234793</li><li>57.0025401787884</li><li>82.8711629908281</li><li>171.615713954457</li><li>243.811464520264</li><li>383.072320458402</li><li>810.00586884545</li><li>1506.99452693885</li><li>4743.52891102688</li></ol>\n"
      ],
      "text/latex": [
       "\\begin{enumerate*}\n",
       "\\item 1\n",
       "\\item 21.0032311454082\n",
       "\\item 40.2684303234793\n",
       "\\item 57.0025401787884\n",
       "\\item 82.8711629908281\n",
       "\\item 171.615713954457\n",
       "\\item 243.811464520264\n",
       "\\item 383.072320458402\n",
       "\\item 810.00586884545\n",
       "\\item 1506.99452693885\n",
       "\\item 4743.52891102688\n",
       "\\end{enumerate*}\n"
      ],
      "text/markdown": [
       "1. 1\n",
       "2. 21.0032311454082\n",
       "3. 40.2684303234793\n",
       "4. 57.0025401787884\n",
       "5. 82.8711629908281\n",
       "6. 171.615713954457\n",
       "7. 243.811464520264\n",
       "8. 383.072320458402\n",
       "9. 810.00586884545\n",
       "10. 1506.99452693885\n",
       "11. 4743.52891102688\n",
       "\n",
       "\n"
      ],
      "text/plain": [
       " [1]    1.00000   21.00323   40.26843   57.00254   82.87116  171.61571\n",
       " [7]  243.81146  383.07232  810.00587 1506.99453 4743.52891"
      ]
     },
     "metadata": {},
     "output_type": "display_data"
    },
    {
     "data": {
      "text/html": [
       "<style>\n",
       ".dl-inline {width: auto; margin:0; padding: 0}\n",
       ".dl-inline>dt, .dl-inline>dd {float: none; width: auto; display: inline-block}\n",
       ".dl-inline>dt::after {content: \":\\0020\"; padding-right: .5ex}\n",
       ".dl-inline>dt:not(:first-of-type) {padding-left: .5ex}\n",
       "</style><dl class=dl-inline><dt>u_q</dt><dd>5.36233256846282</dd><dt>coolant</dt><dd>46.4025855659739</dd><dt>stator_winding</dt><dd>204.034827432902</dd><dt>u_d</dt><dd>4.8039400273843</dd><dt>stator_tooth</dt><dd>784.8343685044</dd><dt>motor_speed</dt><dd>15.2077050806087</dd><dt>i_d</dt><dd>10.4409308001865</dd><dt>i_q</dt><dd>257.681067035605</dd><dt>stator_yoke</dt><dd>472.833428258411</dd><dt>ambient</dt><dd>1.6342034805265</dd><dt>torque</dt><dd>292.460138747691</dd></dl>\n"
      ],
      "text/latex": [
       "\\begin{description*}\n",
       "\\item[u\\textbackslash{}\\_q] 5.36233256846282\n",
       "\\item[coolant] 46.4025855659739\n",
       "\\item[stator\\textbackslash{}\\_winding] 204.034827432902\n",
       "\\item[u\\textbackslash{}\\_d] 4.8039400273843\n",
       "\\item[stator\\textbackslash{}\\_tooth] 784.8343685044\n",
       "\\item[motor\\textbackslash{}\\_speed] 15.2077050806087\n",
       "\\item[i\\textbackslash{}\\_d] 10.4409308001865\n",
       "\\item[i\\textbackslash{}\\_q] 257.681067035605\n",
       "\\item[stator\\textbackslash{}\\_yoke] 472.833428258411\n",
       "\\item[ambient] 1.6342034805265\n",
       "\\item[torque] 292.460138747691\n",
       "\\end{description*}\n"
      ],
      "text/markdown": [
       "u_q\n",
       ":   5.36233256846282coolant\n",
       ":   46.4025855659739stator_winding\n",
       ":   204.034827432902u_d\n",
       ":   4.8039400273843stator_tooth\n",
       ":   784.8343685044motor_speed\n",
       ":   15.2077050806087i_d\n",
       ":   10.4409308001865i_q\n",
       ":   257.681067035605stator_yoke\n",
       ":   472.833428258411ambient\n",
       ":   1.6342034805265torque\n",
       ":   292.460138747691\n",
       "\n"
      ],
      "text/plain": [
       "           u_q        coolant stator_winding            u_d   stator_tooth \n",
       "      5.362333      46.402586     204.034827       4.803940     784.834369 \n",
       "   motor_speed            i_d            i_q    stator_yoke        ambient \n",
       "     15.207705      10.440931     257.681067     472.833428       1.634203 \n",
       "        torque \n",
       "    292.460139 "
      ]
     },
     "metadata": {},
     "output_type": "display_data"
    }
   ],
   "source": [
    "library(faraway)\n",
    "x=model.matrix(model1)[,-1]\n",
    "e=eigen(t(x)%*%x)\n",
    "e$val\n",
    "sqrt(e$val[1]/e$val) \n",
    "require(faraway)\n",
    "vif(x)"
   ]
  },
  {
   "cell_type": "markdown",
   "id": "d37e426c-d501-4055-a2fc-e6db28152cdd",
   "metadata": {},
   "source": [
    "5 variables have VIF>100, which shows that there exists collinearity problem in the model. In the face of collinearity, we may decide to eliminate some variables in the model. "
   ]
  },
  {
   "cell_type": "markdown",
   "id": "ce2fec7c-dafa-4b00-a5f4-f0326acfae28",
   "metadata": {},
   "source": [
    "### Variable Selection"
   ]
  },
  {
   "cell_type": "markdown",
   "id": "69836be2-41a0-497c-95f4-c718ecd58765",
   "metadata": {},
   "source": [
    "Some measures for the \"best model\": "
   ]
  },
  {
   "cell_type": "code",
   "execution_count": 45,
   "id": "2d16f455-2089-4149-a81a-3de3aafb022b",
   "metadata": {},
   "outputs": [
    {
     "name": "stdout",
     "output_type": "stream",
     "text": [
      "  (Intercept)   u_q coolant stator_winding   u_d stator_tooth motor_speed   i_d\n",
      "1        TRUE FALSE   FALSE          FALSE FALSE         TRUE       FALSE FALSE\n",
      "2        TRUE FALSE   FALSE          FALSE FALSE         TRUE       FALSE FALSE\n",
      "3        TRUE FALSE   FALSE           TRUE FALSE         TRUE       FALSE FALSE\n",
      "4        TRUE  TRUE   FALSE           TRUE FALSE         TRUE       FALSE FALSE\n",
      "5        TRUE  TRUE   FALSE           TRUE FALSE         TRUE       FALSE FALSE\n",
      "6        TRUE  TRUE   FALSE           TRUE FALSE         TRUE        TRUE FALSE\n",
      "7        TRUE  TRUE   FALSE           TRUE FALSE         TRUE        TRUE  TRUE\n",
      "8        TRUE  TRUE   FALSE           TRUE  TRUE         TRUE        TRUE  TRUE\n",
      "    i_q stator_yoke ambient torque\n",
      "1 FALSE       FALSE   FALSE  FALSE\n",
      "2 FALSE       FALSE    TRUE  FALSE\n",
      "3 FALSE        TRUE   FALSE  FALSE\n",
      "4 FALSE        TRUE   FALSE  FALSE\n",
      "5 FALSE        TRUE    TRUE  FALSE\n",
      "6 FALSE        TRUE    TRUE  FALSE\n",
      "7 FALSE        TRUE    TRUE  FALSE\n",
      "8 FALSE        TRUE    TRUE  FALSE\n"
     ]
    }
   ],
   "source": [
    "#subset of predictors by # of predictors that produce **min RSS**\n",
    "require(leaps)\n",
    "b=regsubsets(pm~.,data=df)\n",
    "rs=summary(b)\n",
    "print(rs$which)"
   ]
  },
  {
   "cell_type": "markdown",
   "id": "8c687faa-8c24-4f8d-bb10-a191114a612e",
   "metadata": {},
   "source": [
    "Adjusted R2: "
   ]
  },
  {
   "cell_type": "code",
   "execution_count": 55,
   "id": "0d3a1b5c-facb-4a0e-956b-66c20e693bff",
   "metadata": {},
   "outputs": [
    {
     "name": "stdout",
     "output_type": "stream",
     "text": [
      "[1] 8\n"
     ]
    },
    {
     "data": {
      "image/png": "[encoded data removed]",
      "text/plain": [
       "plot without title"
      ]
     },
     "metadata": {
      "image/png": {
       "height": 420,
       "width": 420
      }
     },
     "output_type": "display_data"
    }
   ],
   "source": [
    "##plot Adjusted R-squared\n",
    "plot(2:9,rs$adjr2,xlab=\"Number of parameters\",ylab=\"Adjusted R-squared\")\n",
    "##find the Number of parameters that has max R-squared\n",
    "print(which.max(rs$adjr2))"
   ]
  },
  {
   "cell_type": "markdown",
   "id": "64a7805c-8150-4755-b60d-0ef0a4c5dc8d",
   "metadata": {},
   "source": [
    "8/9 parameters according to Ra^2."
   ]
  },
  {
   "cell_type": "markdown",
   "id": "6a21010a-2929-446e-a6c5-9aeac85f243d",
   "metadata": {},
   "source": [
    "Mallow's CP:"
   ]
  },
  {
   "cell_type": "code",
   "execution_count": 57,
   "id": "8892b045-9bb7-4a6d-9647-284f43c15c45",
   "metadata": {},
   "outputs": [
    {
     "data": {
      "image/png": "[encoded data removed]",
      "text/plain": [
       "plot without title"
      ]
     },
     "metadata": {
      "image/png": {
       "height": 420,
       "width": 420
      }
     },
     "output_type": "display_data"
    }
   ],
   "source": [
    "require(leaps)\n",
    "b=regsubsets(pm~.,data=df)\n",
    "rs=summary(b)\n",
    "plot(2:9,rs$cp,xlab=\"Number of parameters\",ylab=\"Cp\")\n",
    "abline(0,1)"
   ]
  },
  {
   "cell_type": "markdown",
   "id": "99d8dd91-ce11-4c03-95aa-e3c4cf28e10d",
   "metadata": {},
   "source": [
    "9 parameters according to the Cp."
   ]
  },
  {
   "cell_type": "markdown",
   "id": "3552e191-e915-436d-852a-0b51a5a4716f",
   "metadata": {},
   "source": [
    "AIC: "
   ]
  },
  {
   "cell_type": "code",
   "execution_count": 67,
   "id": "39ccb43e-363c-4309-b526-31e175c5b38a",
   "metadata": {},
   "outputs": [
    {
     "name": "stderr",
     "output_type": "stream",
     "text": [
      "Warning message in 1330816 * log(rs$rss/1330816) + (2:12) * 2:\n",
      "\"longer object length is not a multiple of shorter object length\"\n"
     ]
    },
    {
     "data": {
      "image/png": "[encoded data removed]",
      "text/plain": [
       "plot without title"
      ]
     },
     "metadata": {
      "image/png": {
       "height": 420,
       "width": 420
      }
     },
     "output_type": "display_data"
    }
   ],
   "source": [
    "require(leaps)\n",
    "AIC=1330816*log(rs$rss/1330816)+(2:12)*2\n",
    "par(mfrow=c(1,1))\n",
    "plot(AIC~I(1:11),ylab=\"AIC\",xlab=\"Number of Predictors\")"
   ]
  },
  {
   "cell_type": "markdown",
   "id": "ce478e34-159e-456b-97f8-5cc5ed9b04d1",
   "metadata": {},
   "source": [
    "8 predictors according to the AIC."
   ]
  },
  {
   "cell_type": "markdown",
   "id": "07c1b871-e4c1-4b7e-a617-d4291b28e5fc",
   "metadata": {},
   "source": [
    "Therefore, based on these measures, I will choose to keep 8 predictors in the model. And based on the provided model selection matrix which provides min RSS, the predictors would be: u_q, stator_winding, u_d, stator_tooth, motor_speed, i_d, stator_yoke, ambient."
   ]
  },
  {
   "cell_type": "markdown",
   "id": "09e56f3d-f275-4be5-a38c-de93aa446793",
   "metadata": {},
   "source": [
    "### Model 2 (after variable selection)"
   ]
  },
  {
   "cell_type": "code",
   "execution_count": 69,
   "id": "6ed09b56-a3b5-4c24-9246-8d974386733c",
   "metadata": {},
   "outputs": [
    {
     "data": {
      "text/plain": [
       "\n",
       "Call:\n",
       "lm(formula = pm ~ u_q + stator_winding + u_d + stator_tooth + \n",
       "    motor_speed + i_d + stator_yoke + ambient, data = df)\n",
       "\n",
       "Residuals:\n",
       "    Min      1Q  Median      3Q     Max \n",
       "-45.317  -4.606  -0.474   3.960  41.687 \n",
       "\n",
       "Coefficients:\n",
       "                 Estimate Std. Error t value Pr(>|t|)    \n",
       "(Intercept)    -1.859e+01  9.366e-02  -198.4   <2e-16 ***\n",
       "u_q            -1.308e-01  2.921e-04  -447.8   <2e-16 ***\n",
       "stator_winding -1.695e+00  2.926e-03  -579.4   <2e-16 ***\n",
       "u_d            -1.299e-02  1.161e-04  -111.9   <2e-16 ***\n",
       "stator_tooth    4.472e+00  5.721e-03   781.6   <2e-16 ***\n",
       "motor_speed     2.816e-03  1.156e-05   243.6   <2e-16 ***\n",
       "i_d             4.371e-02  3.000e-04   145.7   <2e-16 ***\n",
       "stator_yoke    -2.173e+00  2.866e-03  -758.2   <2e-16 ***\n",
       "ambient         1.771e+00  4.155e-03   426.2   <2e-16 ***\n",
       "---\n",
       "Signif. codes:  0 '***' 0.001 '**' 0.01 '*' 0.05 '.' 0.1 ' ' 1\n",
       "\n",
       "Residual standard error: 7.264 on 1330807 degrees of freedom\n",
       "Multiple R-squared:  0.8538,\tAdjusted R-squared:  0.8538 \n",
       "F-statistic: 9.718e+05 on 8 and 1330807 DF,  p-value: < 2.2e-16\n"
      ]
     },
     "metadata": {},
     "output_type": "display_data"
    }
   ],
   "source": [
    "model2=lm(pm~u_q+stator_winding+u_d+stator_tooth+motor_speed+i_d+stator_yoke+ambient,data=df)\n",
    "summary(model2)"
   ]
  },
  {
   "cell_type": "markdown",
   "id": "efeeb775-3e4b-4de7-92e4-9e314b72454e",
   "metadata": {},
   "source": [
    "Check the collinearity that lies in the model: "
   ]
  },
  {
   "cell_type": "code",
   "execution_count": 70,
   "id": "72b137ff-f49d-4425-aadf-76cef74d28ef",
   "metadata": {},
   "outputs": [
    {
     "data": {
      "text/html": [
       "<style>\n",
       ".list-inline {list-style: none; margin:0; padding: 0}\n",
       ".list-inline>li {display: inline-block}\n",
       ".list-inline>li:not(:last-child)::after {content: \"\\00b7\"; padding: 0 .5ex}\n",
       "</style>\n",
       "<ol class=list-inline><li>1</li><li>40.0611644115625</li><li>46.0980172643339</li><li>65.6877776128029</li><li>142.672953046082</li><li>381.353130674305</li><li>515.029339547659</li><li>3132.47395772863</li></ol>\n"
      ],
      "text/latex": [
       "\\begin{enumerate*}\n",
       "\\item 1\n",
       "\\item 40.0611644115625\n",
       "\\item 46.0980172643339\n",
       "\\item 65.6877776128029\n",
       "\\item 142.672953046082\n",
       "\\item 381.353130674305\n",
       "\\item 515.029339547659\n",
       "\\item 3132.47395772863\n",
       "\\end{enumerate*}\n"
      ],
      "text/markdown": [
       "1. 1\n",
       "2. 40.0611644115625\n",
       "3. 46.0980172643339\n",
       "4. 65.6877776128029\n",
       "5. 142.672953046082\n",
       "6. 381.353130674305\n",
       "7. 515.029339547659\n",
       "8. 3132.47395772863\n",
       "\n",
       "\n"
      ],
      "text/plain": [
       "[1]    1.00000   40.06116   46.09802   65.68778  142.67295  381.35313  515.02934\n",
       "[8] 3132.47396"
      ]
     },
     "metadata": {},
     "output_type": "display_data"
    },
    {
     "data": {
      "text/html": [
       "<style>\n",
       ".dl-inline {width: auto; margin:0; padding: 0}\n",
       ".dl-inline>dt, .dl-inline>dd {float: none; width: auto; display: inline-block}\n",
       ".dl-inline>dt::after {content: \":\\0020\"; padding-right: .5ex}\n",
       ".dl-inline>dt:not(:first-of-type) {padding-left: .5ex}\n",
       "</style><dl class=dl-inline><dt>u_q</dt><dd>4.19886109145618</dd><dt>stator_winding</dt><dd>177.449369925511</dd><dt>u_d</dt><dd>1.35314235384114</dd><dt>stator_tooth</dt><dd>434.815412716237</dd><dt>motor_speed</dt><dd>11.6542325182297</dd><dt>i_d</dt><dd>9.57014892192291</dd><dt>stator_yoke</dt><dd>82.7864124405666</dd><dt>ambient</dt><dd>1.62118527081255</dd></dl>\n"
      ],
      "text/latex": [
       "\\begin{description*}\n",
       "\\item[u\\textbackslash{}\\_q] 4.19886109145618\n",
       "\\item[stator\\textbackslash{}\\_winding] 177.449369925511\n",
       "\\item[u\\textbackslash{}\\_d] 1.35314235384114\n",
       "\\item[stator\\textbackslash{}\\_tooth] 434.815412716237\n",
       "\\item[motor\\textbackslash{}\\_speed] 11.6542325182297\n",
       "\\item[i\\textbackslash{}\\_d] 9.57014892192291\n",
       "\\item[stator\\textbackslash{}\\_yoke] 82.7864124405666\n",
       "\\item[ambient] 1.62118527081255\n",
       "\\end{description*}\n"
      ],
      "text/markdown": [
       "u_q\n",
       ":   4.19886109145618stator_winding\n",
       ":   177.449369925511u_d\n",
       ":   1.35314235384114stator_tooth\n",
       ":   434.815412716237motor_speed\n",
       ":   11.6542325182297i_d\n",
       ":   9.57014892192291stator_yoke\n",
       ":   82.7864124405666ambient\n",
       ":   1.62118527081255\n",
       "\n"
      ],
      "text/plain": [
       "           u_q stator_winding            u_d   stator_tooth    motor_speed \n",
       "      4.198861     177.449370       1.353142     434.815413      11.654233 \n",
       "           i_d    stator_yoke        ambient \n",
       "      9.570149      82.786412       1.621185 "
      ]
     },
     "metadata": {},
     "output_type": "display_data"
    }
   ],
   "source": [
    "library(faraway)\n",
    "x=model.matrix(model2)[,-1]\n",
    "e=eigen(t(x)%*%x)\n",
    "sqrt(e$val[1]/e$val) \n",
    "require(faraway)\n",
    "vif(x)"
   ]
  },
  {
   "cell_type": "markdown",
   "id": "834c34cd-4b90-4548-be9c-81133236cd45",
   "metadata": {},
   "source": [
    "There's still collinearity that exists in the model, especially for **stator_tooth**. I would remove it and check again."
   ]
  },
  {
   "cell_type": "markdown",
   "id": "5c4b3e63-0863-4785-bb32-6eec4d148dfe",
   "metadata": {},
   "source": [
    "### Model 3"
   ]
  },
  {
   "cell_type": "code",
   "execution_count": 71,
   "id": "6e552408-adf9-4d8d-be80-ceb0a7163951",
   "metadata": {},
   "outputs": [
    {
     "data": {
      "text/plain": [
       "\n",
       "Call:\n",
       "lm(formula = pm ~ u_q + stator_winding + u_d + motor_speed + \n",
       "    i_d + stator_yoke + ambient, data = df)\n",
       "\n",
       "Residuals:\n",
       "    Min      1Q  Median      3Q     Max \n",
       "-56.534  -5.826  -0.429   5.344  41.423 \n",
       "\n",
       "Coefficients:\n",
       "                 Estimate Std. Error t value Pr(>|t|)    \n",
       "(Intercept)    -3.222e+01  1.112e-01 -289.86   <2e-16 ***\n",
       "u_q            -1.816e-01  3.440e-04 -527.87   <2e-16 ***\n",
       "stator_winding  5.192e-01  8.820e-04  588.66   <2e-16 ***\n",
       "u_d            -2.216e-02  1.395e-04 -158.86   <2e-16 ***\n",
       "motor_speed     7.909e-03  1.153e-05  685.71   <2e-16 ***\n",
       "i_d             1.686e-01  3.068e-04  549.48   <2e-16 ***\n",
       "stator_yoke    -4.837e-02  1.097e-03  -44.08   <2e-16 ***\n",
       "ambient         2.527e+00  4.881e-03  517.68   <2e-16 ***\n",
       "---\n",
       "Signif. codes:  0 '***' 0.001 '**' 0.01 '*' 0.05 '.' 0.1 ' ' 1\n",
       "\n",
       "Residual standard error: 8.775 on 1330808 degrees of freedom\n",
       "Multiple R-squared:  0.7867,\tAdjusted R-squared:  0.7867 \n",
       "F-statistic: 7.014e+05 on 7 and 1330808 DF,  p-value: < 2.2e-16\n"
      ]
     },
     "metadata": {},
     "output_type": "display_data"
    }
   ],
   "source": [
    "model3=lm(pm~u_q+stator_winding+u_d+motor_speed+i_d+stator_yoke+ambient,data=df)\n",
    "summary(model3)"
   ]
  },
  {
   "cell_type": "code",
   "execution_count": 72,
   "id": "4b4f0d57-6861-4f4d-8f03-fe915e28c3e4",
   "metadata": {},
   "outputs": [
    {
     "data": {
      "text/html": [
       "<style>\n",
       ".list-inline {list-style: none; margin:0; padding: 0}\n",
       ".list-inline>li {display: inline-block}\n",
       ".list-inline>li:not(:last-child)::after {content: \"\\00b7\"; padding: 0 .5ex}\n",
       "</style>\n",
       "<ol class=list-inline><li>1</li><li>42.0379964785745</li><li>51.5672273295648</li><li>66.3755534379605</li><li>145.437848864981</li><li>382.657048026741</li><li>515.729394898524</li></ol>\n"
      ],
      "text/latex": [
       "\\begin{enumerate*}\n",
       "\\item 1\n",
       "\\item 42.0379964785745\n",
       "\\item 51.5672273295648\n",
       "\\item 66.3755534379605\n",
       "\\item 145.437848864981\n",
       "\\item 382.657048026741\n",
       "\\item 515.729394898524\n",
       "\\end{enumerate*}\n"
      ],
      "text/markdown": [
       "1. 1\n",
       "2. 42.0379964785745\n",
       "3. 51.5672273295648\n",
       "4. 66.3755534379605\n",
       "5. 145.437848864981\n",
       "6. 382.657048026741\n",
       "7. 515.729394898524\n",
       "\n",
       "\n"
      ],
      "text/plain": [
       "[1]   1.00000  42.03800  51.56723  66.37555 145.43785 382.65705 515.72939"
      ]
     },
     "metadata": {},
     "output_type": "display_data"
    },
    {
     "data": {
      "text/html": [
       "<style>\n",
       ".dl-inline {width: auto; margin:0; padding: 0}\n",
       ".dl-inline>dt, .dl-inline>dd {float: none; width: auto; display: inline-block}\n",
       ".dl-inline>dt::after {content: \":\\0020\"; padding-right: .5ex}\n",
       ".dl-inline>dt:not(:first-of-type) {padding-left: .5ex}\n",
       "</style><dl class=dl-inline><dt>u_q</dt><dd>3.99121952220891</dd><dt>stator_winding</dt><dd>11.0542784645857</dd><dt>u_d</dt><dd>1.33932149262132</dd><dt>motor_speed</dt><dd>7.95145231069437</dd><dt>i_d</dt><dd>6.85752973127513</dd><dt>stator_yoke</dt><dd>8.31733705408081</dd><dt>ambient</dt><dd>1.53334557264949</dd></dl>\n"
      ],
      "text/latex": [
       "\\begin{description*}\n",
       "\\item[u\\textbackslash{}\\_q] 3.99121952220891\n",
       "\\item[stator\\textbackslash{}\\_winding] 11.0542784645857\n",
       "\\item[u\\textbackslash{}\\_d] 1.33932149262132\n",
       "\\item[motor\\textbackslash{}\\_speed] 7.95145231069437\n",
       "\\item[i\\textbackslash{}\\_d] 6.85752973127513\n",
       "\\item[stator\\textbackslash{}\\_yoke] 8.31733705408081\n",
       "\\item[ambient] 1.53334557264949\n",
       "\\end{description*}\n"
      ],
      "text/markdown": [
       "u_q\n",
       ":   3.99121952220891stator_winding\n",
       ":   11.0542784645857u_d\n",
       ":   1.33932149262132motor_speed\n",
       ":   7.95145231069437i_d\n",
       ":   6.85752973127513stator_yoke\n",
       ":   8.31733705408081ambient\n",
       ":   1.53334557264949\n",
       "\n"
      ],
      "text/plain": [
       "           u_q stator_winding            u_d    motor_speed            i_d \n",
       "      3.991220      11.054278       1.339321       7.951452       6.857530 \n",
       "   stator_yoke        ambient \n",
       "      8.317337       1.533346 "
      ]
     },
     "metadata": {},
     "output_type": "display_data"
    }
   ],
   "source": [
    "library(faraway)\n",
    "x=model.matrix(model3)[,-1]\n",
    "e=eigen(t(x)%*%x)\n",
    "sqrt(e$val[1]/e$val) \n",
    "require(faraway)\n",
    "vif(x)"
   ]
  },
  {
   "cell_type": "markdown",
   "id": "701f80b2-0d3c-415f-b1d9-a7fc892a14c4",
   "metadata": {},
   "source": [
    "There's no collinearity concern now, but the R-squared value has dropped a lot(below 80%)! emmm. It seems that the stator_tooth plays a rather important role with the response variable here...Okay I will put it back and remove the variable with the second biggest VIF, which is stator_winding."
   ]
  },
  {
   "cell_type": "markdown",
   "id": "552de033-4496-4e21-81fa-08d75b62f2c3",
   "metadata": {},
   "source": [
    "### Model 4 - the final model for the MLR"
   ]
  },
  {
   "cell_type": "code",
   "execution_count": 73,
   "id": "4359e372-1e52-467c-aa78-dcaebb9246c4",
   "metadata": {},
   "outputs": [
    {
     "data": {
      "text/plain": [
       "\n",
       "Call:\n",
       "lm(formula = pm ~ u_q + u_d + motor_speed + i_d + stator_yoke + \n",
       "    ambient + stator_tooth, data = df)\n",
       "\n",
       "Residuals:\n",
       "    Min      1Q  Median      3Q     Max \n",
       "-54.433  -5.249  -0.531   4.833  40.175 \n",
       "\n",
       "Coefficients:\n",
       "               Estimate Std. Error t value Pr(>|t|)    \n",
       "(Intercept)  -3.029e+01  1.023e-01  -295.9   <2e-16 ***\n",
       "u_q          -1.681e-01  3.188e-04  -527.4   <2e-16 ***\n",
       "u_d          -1.748e-02  1.296e-04  -134.8   <2e-16 ***\n",
       "motor_speed   6.644e-03  1.062e-05   625.9   <2e-16 ***\n",
       "i_d           1.547e-01  2.583e-04   599.0   <2e-16 ***\n",
       "stator_yoke  -7.664e-01  1.705e-03  -449.6   <2e-16 ***\n",
       "ambient       2.388e+00  4.495e-03   531.2   <2e-16 ***\n",
       "stator_tooth  1.262e+00  1.598e-03   789.6   <2e-16 ***\n",
       "---\n",
       "Signif. codes:  0 '***' 0.001 '**' 0.01 '*' 0.05 '.' 0.1 ' ' 1\n",
       "\n",
       "Residual standard error: 8.129 on 1330808 degrees of freedom\n",
       "Multiple R-squared:  0.817,\tAdjusted R-squared:  0.817 \n",
       "F-statistic: 8.486e+05 on 7 and 1330808 DF,  p-value: < 2.2e-16\n"
      ]
     },
     "metadata": {},
     "output_type": "display_data"
    }
   ],
   "source": [
    "model4=lm(pm~u_q+u_d+motor_speed+i_d+stator_yoke+ambient+stator_tooth,data=df)\n",
    "summary(model4)"
   ]
  },
  {
   "cell_type": "code",
   "execution_count": 74,
   "id": "bcb3f4f6-f0fc-4dc6-85fa-daf3a298a0fe",
   "metadata": {},
   "outputs": [
    {
     "data": {
      "text/html": [
       "<style>\n",
       ".list-inline {list-style: none; margin:0; padding: 0}\n",
       ".list-inline>li {display: inline-block}\n",
       ".list-inline>li:not(:last-child)::after {content: \"\\00b7\"; padding: 0 .5ex}\n",
       "</style>\n",
       "<ol class=list-inline><li>1</li><li>42.8732981028739</li><li>54.0745341912743</li><li>65.8718088849116</li><li>143.750299868054</li><li>393.659918033344</li><li>939.857173868918</li></ol>\n"
      ],
      "text/latex": [
       "\\begin{enumerate*}\n",
       "\\item 1\n",
       "\\item 42.8732981028739\n",
       "\\item 54.0745341912743\n",
       "\\item 65.8718088849116\n",
       "\\item 143.750299868054\n",
       "\\item 393.659918033344\n",
       "\\item 939.857173868918\n",
       "\\end{enumerate*}\n"
      ],
      "text/markdown": [
       "1. 1\n",
       "2. 42.8732981028739\n",
       "3. 54.0745341912743\n",
       "4. 65.8718088849116\n",
       "5. 143.750299868054\n",
       "6. 393.659918033344\n",
       "7. 939.857173868918\n",
       "\n",
       "\n"
      ],
      "text/plain": [
       "[1]   1.00000  42.87330  54.07453  65.87181 143.75030 393.65992 939.85717"
      ]
     },
     "metadata": {},
     "output_type": "display_data"
    },
    {
     "data": {
      "text/html": [
       "<style>\n",
       ".dl-inline {width: auto; margin:0; padding: 0}\n",
       ".dl-inline>dt, .dl-inline>dd {float: none; width: auto; display: inline-block}\n",
       ".dl-inline>dt::after {content: \":\\0020\"; padding-right: .5ex}\n",
       ".dl-inline>dt:not(:first-of-type) {padding-left: .5ex}\n",
       "</style><dl class=dl-inline><dt>u_q</dt><dd>3.99466387090316</dd><dt>u_d</dt><dd>1.34712531969276</dd><dt>motor_speed</dt><dd>7.84773308845241</dd><dt>i_d</dt><dd>5.66594010045207</dd><dt>stator_yoke</dt><dd>23.3885815885312</dd><dt>ambient</dt><dd>1.51488263054324</dd><dt>stator_tooth</dt><dd>27.086997575009</dd></dl>\n"
      ],
      "text/latex": [
       "\\begin{description*}\n",
       "\\item[u\\textbackslash{}\\_q] 3.99466387090316\n",
       "\\item[u\\textbackslash{}\\_d] 1.34712531969276\n",
       "\\item[motor\\textbackslash{}\\_speed] 7.84773308845241\n",
       "\\item[i\\textbackslash{}\\_d] 5.66594010045207\n",
       "\\item[stator\\textbackslash{}\\_yoke] 23.3885815885312\n",
       "\\item[ambient] 1.51488263054324\n",
       "\\item[stator\\textbackslash{}\\_tooth] 27.086997575009\n",
       "\\end{description*}\n"
      ],
      "text/markdown": [
       "u_q\n",
       ":   3.99466387090316u_d\n",
       ":   1.34712531969276motor_speed\n",
       ":   7.84773308845241i_d\n",
       ":   5.66594010045207stator_yoke\n",
       ":   23.3885815885312ambient\n",
       ":   1.51488263054324stator_tooth\n",
       ":   27.086997575009\n",
       "\n"
      ],
      "text/plain": [
       "         u_q          u_d  motor_speed          i_d  stator_yoke      ambient \n",
       "    3.994664     1.347125     7.847733     5.665940    23.388582     1.514883 \n",
       "stator_tooth \n",
       "   27.086998 "
      ]
     },
     "metadata": {},
     "output_type": "display_data"
    }
   ],
   "source": [
    "library(faraway)\n",
    "x=model.matrix(model4)[,-1]\n",
    "e=eigen(t(x)%*%x)\n",
    "sqrt(e$val[1]/e$val) \n",
    "require(faraway)\n",
    "vif(x)"
   ]
  },
  {
   "cell_type": "markdown",
   "id": "7b5e2b50-323f-408e-ba15-47c9f3c11368",
   "metadata": {},
   "source": [
    "Now we got a model with lower R-squared value, but it is acceptable since the collinearity has been eliminated here. "
   ]
  },
  {
   "cell_type": "markdown",
   "id": "1b23a069-4300-464c-a3ca-abfead87c9a4",
   "metadata": {
    "tags": []
   },
   "source": [
    "### Cross-validation to check the model's performance in prediction"
   ]
  },
  {
   "cell_type": "markdown",
   "id": "9767fa90-88cf-4e0b-a2c5-115b884a163d",
   "metadata": {},
   "source": [
    "https://www.rdocumentation.org/packages/lmvar/versions/1.5.2/topics/cv.lm"
   ]
  },
  {
   "cell_type": "code",
   "execution_count": 90,
   "id": "96c33301-47bc-4969-9039-583867e9eca3",
   "metadata": {},
   "outputs": [],
   "source": [
    "library(DAAG)"
   ]
  },
  {
   "cell_type": "code",
   "execution_count": 97,
   "id": "90485708-5db9-4344-b3be-b0e8c3deb988",
   "metadata": {},
   "outputs": [],
   "source": [
    "MLR<-lm(pm~u_q+u_d+motor_speed+i_d+stator_yoke+ambient+stator_tooth,data=df, x = TRUE, y = TRUE)"
   ]
  },
  {
   "cell_type": "code",
   "execution_count": 98,
   "id": "00ae3bd3-54d7-4830-ae93-845720e7d8ea",
   "metadata": {},
   "outputs": [
    {
     "data": {
      "text/plain": [
       "Mean absolute error        :  6.202322 \n",
       "Sample standard deviation  :  0.02414958 \n",
       "\n",
       "Mean squared error         :  66.08449 \n",
       "Sample standard deviation  :  0.5892648 \n",
       "\n",
       "Root mean squared error    :  8.129164 \n",
       "Sample standard deviation  :  0.03626784 \n"
      ]
     },
     "metadata": {},
     "output_type": "display_data"
    }
   ],
   "source": [
    "cv.lm(df=df,MLR)"
   ]
  },
  {
   "cell_type": "markdown",
   "id": "01d12581-052d-4aff-a95b-baf83c729138",
   "metadata": {},
   "source": [
    "## Step 5: Principal Component Regression"
   ]
  },
  {
   "cell_type": "markdown",
   "id": "957434d6-ffcf-49d8-aa1d-33459cf4afdd",
   "metadata": {},
   "source": [
    "Since there are collinearity exists in the predictors, I will also try a principal component regression."
   ]
  },
  {
   "cell_type": "code",
   "execution_count": 110,
   "id": "cfe73925-8078-4a14-a921-7039a30e6127",
   "metadata": {},
   "outputs": [
    {
     "ename": "ERROR",
     "evalue": "Error in -c(\"pm\"): invalid argument to unary operator\n",
     "output_type": "error",
     "traceback": [
      "Error in -c(\"pm\"): invalid argument to unary operator\nTraceback:\n",
      "1. df[-c(\"pm\"), ]",
      "2. `[.data.frame`(df, -c(\"pm\"), )"
     ]
    }
   ],
   "source": [
    "df[,-c('pm')]"
   ]
  },
  {
   "cell_type": "code",
   "execution_count": 105,
   "id": "740f9291-b08a-4e1b-a56f-3c3aacbe309a",
   "metadata": {},
   "outputs": [
    {
     "ename": "ERROR",
     "evalue": "Error in -c(\"pm\"): invalid argument to unary operator\n",
     "output_type": "error",
     "traceback": [
      "Error in -c(\"pm\"): invalid argument to unary operator\nTraceback:\n",
      "1. prcomp(df[, -c(\"pm\")], scale. = TRUE)",
      "2. df[, -c(\"pm\")]",
      "3. `[.data.frame`(df, , -c(\"pm\"))"
     ]
    }
   ],
   "source": [
    "pca <- prcomp(df[,-c('pm')], scale.=TRUE)"
   ]
  },
  {
   "cell_type": "code",
   "execution_count": null,
   "id": "5acb8030-8f37-4f72-bc37-8621fa865ba3",
   "metadata": {},
   "outputs": [],
   "source": []
  }
 ],
 "metadata": {
  "kernelspec": {
   "display_name": "R",
   "language": "R",
   "name": "ir"
  },
  "language_info": {
   "codemirror_mode": "r",
   "file_extension": ".r",
   "mimetype": "text/x-r-source",
   "name": "R",
   "pygments_lexer": "r",
   "version": "4.1.2"
  }
 },
 "nbformat": 4,
 "nbformat_minor": 5
}
